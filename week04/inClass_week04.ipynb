{
 "cells": [
  {
   "cell_type": "markdown",
   "id": "respective-store",
   "metadata": {},
   "source": [
    "# In Class Notebook, Week 04"
   ]
  },
  {
   "cell_type": "markdown",
   "id": "2a597611",
   "metadata": {},
   "source": [
    "You can click on the GitHub URL of this notebook to access the file in near-real time: https://github.com/UIUC-iSchool-DataViz/is445_oauoag_fall2022/blob/master/week04/inClass_week04.ipynb \n",
    "\n",
    "Or you can copy-paste into the nbviewer interface for a plain-text rendering:\n",
    "\n",
    "https://kokes.github.io/nbviewer.js/viewer.html"
   ]
  },
  {
   "cell_type": "code",
   "execution_count": 1,
   "id": "68d2283d",
   "metadata": {},
   "outputs": [],
   "source": [
    "import matplotlib.pyplot as plt\n",
    "import matplotlib\n",
    "import numpy as np\n",
    "import pandas as pd\n",
    "\n",
    "import ipywidgets"
   ]
  },
  {
   "cell_type": "code",
   "execution_count": 3,
   "id": "33a171a1",
   "metadata": {},
   "outputs": [],
   "source": [
    "michigan_file = '/Users/jnaiman/Downloads/michigan_lld.flt'\n",
    "michigan = np.fromfile(michigan_file, dtype='f4').reshape((5365,4201))\n",
    "# shape and data type come from the documentation of this file\n",
    "# https://www.ngdc.noaa.gov/mgg/greatlakes/michigan.html"
   ]
  },
  {
   "cell_type": "code",
   "execution_count": 4,
   "id": "f78d2eb6",
   "metadata": {},
   "outputs": [],
   "source": [
    "michigan[michigan==-9999] = np.nan"
   ]
  },
  {
   "cell_type": "code",
   "execution_count": null,
   "id": "b55fac02",
   "metadata": {},
   "outputs": [],
   "source": [
    "# 1. hardcode some options we want to make interactive\n",
    "colormap_name = 'Blues'\n",
    "#take_log = True\n",
    "\n",
    "plt.imshow(michigan,cmap=colormap_name)\n",
    "plt.colorb"
   ]
  }
 ],
 "metadata": {
  "kernelspec": {
   "display_name": "Python 3 (ipykernel)",
   "language": "python",
   "name": "python3"
  },
  "language_info": {
   "codemirror_mode": {
    "name": "ipython",
    "version": 3
   },
   "file_extension": ".py",
   "mimetype": "text/x-python",
   "name": "python",
   "nbconvert_exporter": "python",
   "pygments_lexer": "ipython3",
   "version": "3.7.12"
  }
 },
 "nbformat": 4,
 "nbformat_minor": 5
}
