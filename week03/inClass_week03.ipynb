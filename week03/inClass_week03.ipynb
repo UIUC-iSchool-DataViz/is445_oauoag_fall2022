{
 "cells": [
  {
   "cell_type": "markdown",
   "id": "respective-store",
   "metadata": {},
   "source": [
    "# In Class Notebook, Week 03"
   ]
  },
  {
   "cell_type": "markdown",
   "id": "2a597611",
   "metadata": {},
   "source": [
    "You can access this notebook in near-real time by going here:\n",
    "\n",
    "https://github.com/UIUC-iSchool-DataViz/is445_oauoag_fall2022/blob/master/week03/inClass_week03.ipynb \n",
    "\n",
    "Or by pasting that URL into the nbviewer interface for a plain-text rendering:\n",
    "\n",
    "https://kokes.github.io/nbviewer.js/viewer.html"
   ]
  },
  {
   "cell_type": "markdown",
   "id": "17bee6f9",
   "metadata": {},
   "source": [
    "I am writing a thing!"
   ]
  },
  {
   "cell_type": "code",
   "execution_count": 1,
   "id": "aade65df",
   "metadata": {},
   "outputs": [],
   "source": [
    "import matplotlib.pyplot as plt # shorthand\n",
    "import numpy as np # another shorthand!"
   ]
  },
  {
   "cell_type": "code",
   "execution_count": 2,
   "id": "63eef936",
   "metadata": {},
   "outputs": [],
   "source": [
    "import pandas as pd # yet another shorthand!"
   ]
  },
  {
   "cell_type": "code",
   "execution_count": 3,
   "id": "f76ebb33",
   "metadata": {},
   "outputs": [],
   "source": [
    "data_url = 'https://raw.githubusercontent.com/UIUC-iSchool-DataViz/is445_bcubcg_fall2022/main/data/building_inventory.csv'\n",
    "buildings = pd.read_csv(data_url)"
   ]
  },
  {
   "cell_type": "code",
   "execution_count": null,
   "id": "a84053e9",
   "metadata": {},
   "outputs": [],
   "source": [
    "build"
   ]
  }
 ],
 "metadata": {
  "kernelspec": {
   "display_name": "Python 3 (ipykernel)",
   "language": "python",
   "name": "python3"
  },
  "language_info": {
   "codemirror_mode": {
    "name": "ipython",
    "version": 3
   },
   "file_extension": ".py",
   "mimetype": "text/x-python",
   "name": "python",
   "nbconvert_exporter": "python",
   "pygments_lexer": "ipython3",
   "version": "3.7.12"
  }
 },
 "nbformat": 4,
 "nbformat_minor": 5
}
