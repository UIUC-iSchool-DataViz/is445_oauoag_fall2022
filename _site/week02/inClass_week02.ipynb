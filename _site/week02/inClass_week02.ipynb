{
 "cells": [
  {
   "cell_type": "markdown",
   "id": "respective-store",
   "metadata": {},
   "source": [
    "# In Class Notebook, Week 02"
   ]
  },
  {
   "cell_type": "markdown",
   "id": "patent-merit",
   "metadata": {},
   "source": [
    "To access this in near-real time try: https://github.com/UIUC-iSchool-DataViz/is445_oauoag_fall2022/blob/master/week02/inClass_week02.ipynb\n",
    "\n",
    "Or paste this URL into the nbviewer interface for a plain-text rendering:\n",
    "\n",
    "https://kokes.github.io/nbviewer.js/viewer.html\n",
    "\n",
    "I am writing a thing!\n",
    "\n",
    "I am writing another thing!!"
   ]
  },
  {
   "cell_type": "code",
   "execution_count": 1,
   "id": "d226d75e",
   "metadata": {},
   "outputs": [
    {
     "data": {
      "text/plain": [
       "11"
      ]
     },
     "execution_count": 1,
     "metadata": {},
     "output_type": "execute_result"
    }
   ],
   "source": [
    "5+6"
   ]
  },
  {
   "cell_type": "code",
   "execution_count": 2,
   "id": "c657a2fe",
   "metadata": {},
   "outputs": [
    {
     "data": {
      "text/plain": [
       "14"
      ]
     },
     "execution_count": 2,
     "metadata": {},
     "output_type": "execute_result"
    }
   ],
   "source": [
    "5+9"
   ]
  },
  {
   "cell_type": "markdown",
   "id": "92eb6d02",
   "metadata": {},
   "source": [
    "I can write stuff like normal text."
   ]
  },
  {
   "cell_type": "markdown",
   "id": "c367054e",
   "metadata": {},
   "source": [
    "ESC+m is the \"hot key\" for going from code to markdown."
   ]
  },
  {
   "cell_type": "code",
   "execution_count": 3,
   "id": "a2c6b94b",
   "metadata": {},
   "outputs": [],
   "source": [
    "x = 3"
   ]
  },
  {
   "cell_type": "code",
   "execution_count": 4,
   "id": "4e0d2f1a",
   "metadata": {},
   "outputs": [
    {
     "data": {
      "text/plain": [
       "9"
      ]
     },
     "execution_count": 4,
     "metadata": {},
     "output_type": "execute_result"
    }
   ],
   "source": [
    "x+6"
   ]
  },
  {
   "cell_type": "markdown",
   "id": "08711ccc",
   "metadata": {},
   "source": [
    "A few more items about markdown:\n",
    "\n",
    "# This is a large header\n",
    "\n",
    "## A slightly smaller header\n",
    "\n",
    "### Even smaller\n",
    "\n",
    "#### This is the smallest"
   ]
  },
  {
   "cell_type": "markdown",
   "id": "da16e811",
   "metadata": {},
   "source": [
    "1. item 1\n",
    "1. item 2\n",
    "1. the third item\n",
    "\n",
    "* thing 1\n",
    "* thing 2\n",
    "* thing 3\n",
    "  * sub point 3.1\n",
    "  \n",
    "$\\frac{x}{y} = \\frac{5}{2}$"
   ]
  },
  {
   "cell_type": "code",
   "execution_count": null,
   "id": "179e46d0",
   "metadata": {},
   "outputs": [],
   "source": []
  }
 ],
 "metadata": {
  "kernelspec": {
   "display_name": "Python 3 (ipykernel)",
   "language": "python",
   "name": "python3"
  },
  "language_info": {
   "codemirror_mode": {
    "name": "ipython",
    "version": 3
   },
   "file_extension": ".py",
   "mimetype": "text/x-python",
   "name": "python",
   "nbconvert_exporter": "python",
   "pygments_lexer": "ipython3",
   "version": "3.7.12"
  }
 },
 "nbformat": 4,
 "nbformat_minor": 5
}
