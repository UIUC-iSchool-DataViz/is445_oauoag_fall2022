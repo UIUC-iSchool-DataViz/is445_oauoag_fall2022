{
 "cells": [
  {
   "cell_type": "markdown",
   "id": "respective-store",
   "metadata": {},
   "source": [
    "# In Class Notebook, Week 07"
   ]
  },
  {
   "cell_type": "markdown",
   "id": "2a597611",
   "metadata": {},
   "source": [
    "You can always find here: https://github.com/UIUC-iSchool-DataViz/is445_oauoag_fall2022/blob/master/week07/inClass_week07.ipynb  \n",
    "\n",
    "Or into the nbviewer interface for a plain-text rendering:\n",
    "\n",
    "https://kokes.github.io/nbviewer.js/viewer.html"
   ]
  },
  {
   "cell_type": "code",
   "execution_count": 1,
   "id": "ca572a55",
   "metadata": {},
   "outputs": [],
   "source": [
    "import pandas as pd\n",
    "import matplotlib.pyplot as plt\n",
    "import geopandas\n",
    "import numpy as np\n",
    "import bqplot "
   ]
  },
  {
   "cell_type": "markdown",
   "id": "916c8740",
   "metadata": {},
   "source": [
    "## Quick bqplot maps"
   ]
  },
  {
   "cell_type": "code",
   "execution_count": 3,
   "id": "77236e83",
   "metadata": {},
   "outputs": [
    {
     "data": {
      "application/vnd.jupyter.widget-view+json": {
       "model_id": "33b90914b0c543ffadebf14aa7d32a42",
       "version_major": 2,
       "version_minor": 0
      },
      "text/plain": [
       "Figure(fig_margin={'top': 0, 'bottom': 0, 'left': 0, 'right': 0}, marks=[Map(hovered_styles={'hovered_fill': '…"
      ]
     },
     "metadata": {},
     "output_type": "display_data"
    }
   ],
   "source": [
    "# 1. data/axis\n",
    "shape_data = bqplot.topo_load('map_data/WorldMap.json')\n",
    "\n",
    "# 2. scales\n",
    "sc_geo = bqplot.Mercator() # not a great projection!\n",
    "\n",
    "# 3. Marks\n",
    "shape_map = bqplot.Map(map_data=shape_data, scales={'projection':sc_geo})\n",
    "\n",
    "# put it together as a figure\n",
    "fig = bqplot.Figure(marks=[shape_map], fig_margin = {'top':0, 'bottom':0, 'left':0, 'right':0})\n",
    "fig"
   ]
  },
  {
   "cell_type": "code",
   "execution_count": 4,
   "id": "7a6536ab",
   "metadata": {},
   "outputs": [
    {
     "data": {
      "application/vnd.jupyter.widget-view+json": {
       "model_id": "8c4b4cbf74ab4cb4bd1fe8d63238e5ae",
       "version_major": 2,
       "version_minor": 0
      },
      "text/plain": [
       "Figure(fig_margin={'top': 0, 'bottom': 0, 'left': 0, 'right': 0}, marks=[Map(hovered_styles={'hovered_fill': '…"
      ]
     },
     "metadata": {},
     "output_type": "display_data"
    }
   ],
   "source": [
    "# 1. data/axis\n",
    "shape_data = bqplot.topo_load('map_data/WorldMap.json')\n",
    "\n",
    "# 2. scales\n",
    "sc_geo = bqplot.Gnomonic() # not a great projection!\n",
    "\n",
    "# 3. Marks\n",
    "shape_map = bqplot.Map(map_data=shape_data, scales={'projection':sc_geo})\n",
    "\n",
    "# put it together as a figure\n",
    "fig = bqplot.Figure(marks=[shape_map], fig_margin = {'top':0, 'bottom':0, 'left':0, 'right':0})\n",
    "fig"
   ]
  },
  {
   "cell_type": "code",
   "execution_count": 5,
   "id": "de409aa5",
   "metadata": {},
   "outputs": [
    {
     "data": {
      "application/vnd.jupyter.widget-view+json": {
       "model_id": "d7d05757df40403eb01149ac3be7b75d",
       "version_major": 2,
       "version_minor": 0
      },
      "text/plain": [
       "Figure(fig_margin={'top': 0, 'bottom': 0, 'left': 0, 'right': 0}, marks=[Map(hovered_styles={'hovered_fill': '…"
      ]
     },
     "metadata": {},
     "output_type": "display_data"
    }
   ],
   "source": [
    "# 1. data/axis\n",
    "state_data = bqplot.topo_load('map_data/USStatesMap.json')\n",
    "\n",
    "# 2. scales\n",
    "sc_geo = bqplot.AlbersUSA() # projection specific to \"zoomed in\" regions near the US\n",
    "\n",
    "# 3. marks\n",
    "states_map = bqplot.Map(map_data=state_data, scales={'projection':sc_geo})\n",
    "\n",
    "# put it together as a figure\n",
    "fig = bqplot.Figure(marks=[states_map], fig_margin = {'top':0, 'bottom':0, 'left':0, 'right':0})\n",
    "fig"
   ]
  },
  {
   "cell_type": "code",
   "execution_count": 6,
   "id": "464a6f4c",
   "metadata": {},
   "outputs": [
    {
     "name": "stdout",
     "output_type": "stream",
     "text": [
      "EuropeMap.json     USCountiesMap.json USStatesMap.json   WorldMap.json\r\n"
     ]
    }
   ],
   "source": [
    "!ls /Users/jnaiman/opt/anaconda3/pkgs/bqplot-0.12.30-pyhd8ed1ab_0/site-packages/bqplot/map_data/"
   ]
  },
  {
   "cell_type": "markdown",
   "id": "a141d7e2",
   "metadata": {},
   "source": [
    "## Geopandas"
   ]
  },
  {
   "cell_type": "code",
   "execution_count": 7,
   "id": "f2b363f7",
   "metadata": {},
   "outputs": [
    {
     "data": {
      "text/plain": [
       "['naturalearth_cities', 'naturalearth_lowres', 'nybb']"
      ]
     },
     "execution_count": 7,
     "metadata": {},
     "output_type": "execute_result"
    }
   ],
   "source": [
    "geopandas.datasets.available"
   ]
  },
  {
   "cell_type": "code",
   "execution_count": null,
   "id": "fa584fad",
   "metadata": {},
   "outputs": [],
   "source": []
  }
 ],
 "metadata": {
  "kernelspec": {
   "display_name": "Python 3 (ipykernel)",
   "language": "python",
   "name": "python3"
  },
  "language_info": {
   "codemirror_mode": {
    "name": "ipython",
    "version": 3
   },
   "file_extension": ".py",
   "mimetype": "text/x-python",
   "name": "python",
   "nbconvert_exporter": "python",
   "pygments_lexer": "ipython3",
   "version": "3.7.12"
  }
 },
 "nbformat": 4,
 "nbformat_minor": 5
}
