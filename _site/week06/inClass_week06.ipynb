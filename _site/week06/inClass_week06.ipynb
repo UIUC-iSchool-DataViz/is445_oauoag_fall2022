{
 "cells": [
  {
   "cell_type": "markdown",
   "id": "respective-store",
   "metadata": {},
   "source": [
    "# In Class Notebook, Week 06"
   ]
  },
  {
   "cell_type": "markdown",
   "id": "2a597611",
   "metadata": {},
   "source": [
    "You can always access the URL of this notebook: https://github.com/UIUC-iSchool-DataViz/is445_oauoag_fall2022/blob/master/week06/inClass_week06.ipynb \n",
    "\n",
    "Or post the URL into the nbviewer interface for a plain-text rendering:\n",
    "\n",
    "https://kokes.github.io/nbviewer.js/viewer.html"
   ]
  },
  {
   "cell_type": "code",
   "execution_count": 1,
   "id": "d541b771",
   "metadata": {},
   "outputs": [],
   "source": [
    "# import usual things\n",
    "import pandas as pd\n",
    "import bqplot\n",
    "import numpy as np\n",
    "import ipywidgets\n",
    "import matplotlib.pyplot as plt"
   ]
  },
  {
   "cell_type": "markdown",
   "id": "b466c227",
   "metadata": {},
   "source": [
    "## Bit of a review from last class"
   ]
  },
  {
   "cell_type": "code",
   "execution_count": 2,
   "id": "c0d1c607",
   "metadata": {},
   "outputs": [],
   "source": [
    "# 1. data\n",
    "data = np.random.random((10,10))"
   ]
  },
  {
   "cell_type": "code",
   "execution_count": 4,
   "id": "8acbf088",
   "metadata": {},
   "outputs": [
    {
     "data": {
      "text/plain": [
       "(10, 10)"
      ]
     },
     "execution_count": 4,
     "metadata": {},
     "output_type": "execute_result"
    }
   ],
   "source": [
    "data.shape"
   ]
  },
  {
   "cell_type": "code",
   "execution_count": 5,
   "id": "479d431e",
   "metadata": {},
   "outputs": [],
   "source": [
    "bqplot.ColorScale?"
   ]
  },
  {
   "cell_type": "code",
   "execution_count": 6,
   "id": "3dd882c4",
   "metadata": {},
   "outputs": [],
   "source": [
    "# 2. Scales\n",
    "col_sc = bqplot.ColorScale()"
   ]
  },
  {
   "cell_type": "code",
   "execution_count": 7,
   "id": "b3ed13e7",
   "metadata": {},
   "outputs": [],
   "source": [
    "# 3. Axis -- skip this for right now"
   ]
  },
  {
   "cell_type": "code",
   "execution_count": 8,
   "id": "2c5dd5c8",
   "metadata": {},
   "outputs": [],
   "source": [
    "bqplot.GridHeatMap?"
   ]
  },
  {
   "cell_type": "code",
   "execution_count": 9,
   "id": "c57e710a",
   "metadata": {},
   "outputs": [],
   "source": [
    "# 4. Mark -- grid heatmap\n",
    "heat_map = bqplot.GridHeatMap(color=data, scales={'color':col_sc})"
   ]
  },
  {
   "cell_type": "code",
   "execution_count": 10,
   "id": "8f54dd02",
   "metadata": {},
   "outputs": [],
   "source": [
    "# 5. interactions -- skip for now as well"
   ]
  },
  {
   "cell_type": "code",
   "execution_count": 11,
   "id": "cfd021e0",
   "metadata": {},
   "outputs": [
    {
     "data": {
      "application/vnd.jupyter.widget-view+json": {
       "model_id": "1ce5298338cb4e0cb0713fc99de95f86",
       "version_major": 2,
       "version_minor": 0
      },
      "text/plain": [
       "Figure(fig_margin={'top': 60, 'bottom': 60, 'left': 60, 'right': 60}, marks=[GridHeatMap(color=array([[0.18102…"
      ]
     },
     "metadata": {},
     "output_type": "display_data"
    }
   ],
   "source": [
    "# put it all together as a figure\n",
    "fig = bqplot.Figure(marks=[heat_map])\n",
    "fig"
   ]
  },
  {
   "cell_type": "code",
   "execution_count": 12,
   "id": "6f7a2ee6",
   "metadata": {},
   "outputs": [
    {
     "data": {
      "application/vnd.jupyter.widget-view+json": {
       "model_id": "7d80d2ef1f4147b88902b690d39302ab",
       "version_major": 2,
       "version_minor": 0
      },
      "text/plain": [
       "Figure(fig_margin={'top': 60, 'bottom': 60, 'left': 60, 'right': 60}, marks=[GridHeatMap(color=array([[0.18102…"
      ]
     },
     "metadata": {},
     "output_type": "display_data"
    }
   ],
   "source": [
    "# 2. Scales\n",
    "col_sc = bqplot.ColorScale(scheme='Greens')\n",
    "\n",
    "# 3. Axis -- skip this for right now\n",
    "\n",
    "# 4. Mark -- grid heatmap\n",
    "heat_map = bqplot.GridHeatMap(color=data, scales={'color':col_sc})\n",
    "\n",
    "# 5. interactions -- skip for now as well\n",
    "\n",
    "# put it all together as a figure\n",
    "fig = bqplot.Figure(marks=[heat_map])\n",
    "fig"
   ]
  },
  {
   "cell_type": "code",
   "execution_count": 13,
   "id": "c5ec6205",
   "metadata": {},
   "outputs": [],
   "source": [
    "bqplot.ColorAxis?"
   ]
  },
  {
   "cell_type": "code",
   "execution_count": 14,
   "id": "a641f3c9",
   "metadata": {},
   "outputs": [
    {
     "data": {
      "application/vnd.jupyter.widget-view+json": {
       "model_id": "263cb10679f941618fccf471dca196c5",
       "version_major": 2,
       "version_minor": 0
      },
      "text/plain": [
       "Figure(axes=[ColorAxis(orientation='vertical', scale=ColorScale(scheme='Greens'), side='right')], fig_margin={…"
      ]
     },
     "metadata": {},
     "output_type": "display_data"
    }
   ],
   "source": [
    "# 2. Scales\n",
    "col_sc = bqplot.ColorScale(scheme='Greens')\n",
    "\n",
    "# 3. Axis -- skip this for right now\n",
    "col_ax = bqplot.ColorAxis(scale=col_sc, \n",
    "                         orientation='vertical',\n",
    "                         side='right')\n",
    "\n",
    "# 4. Mark -- grid heatmap\n",
    "heat_map = bqplot.GridHeatMap(color=data, scales={'color':col_sc})\n",
    "\n",
    "# 5. interactions -- skip for now as well\n",
    "\n",
    "# put it all together as a figure\n",
    "fig = bqplot.Figure(marks=[heat_map], axes=[col_ax])\n",
    "fig"
   ]
  },
  {
   "cell_type": "code",
   "execution_count": 16,
   "id": "1e40bb5d",
   "metadata": {},
   "outputs": [
    {
     "data": {
      "application/vnd.jupyter.widget-view+json": {
       "model_id": "d1cba2043c09437c8fe262efb3ae13c7",
       "version_major": 2,
       "version_minor": 0
      },
      "text/plain": [
       "Figure(axes=[ColorAxis(orientation='vertical', scale=ColorScale(scheme='Greens'), side='right'), Axis(scale=Or…"
      ]
     },
     "metadata": {},
     "output_type": "display_data"
    }
   ],
   "source": [
    "# 2. Scales\n",
    "col_sc = bqplot.ColorScale(scheme='Greens')\n",
    "x_sc = bqplot.OrdinalScale()\n",
    "y_sc = bqplot.OrdinalScale()\n",
    "\n",
    "# 3. Axis -- skip this for right now\n",
    "col_ax = bqplot.ColorAxis(scale=col_sc, \n",
    "                         orientation='vertical',\n",
    "                         side='right')\n",
    "x_ax = bqplot.Axis(scale=x_sc)\n",
    "y_ax = bqplot.Axis(scale=y_sc, orientation='vertical')\n",
    "\n",
    "# 4. Mark -- grid heatmap\n",
    "heat_map = bqplot.GridHeatMap(color=data, \n",
    "                              scales={'color':col_sc, 'row':y_sc, 'column':x_sc})\n",
    "\n",
    "# 5. interactions -- skip for now as well\n",
    "\n",
    "# put it all together as a figure\n",
    "fig = bqplot.Figure(marks=[heat_map], axes=[col_ax, x_ax,y_ax])\n",
    "fig"
   ]
  },
  {
   "cell_type": "code",
   "execution_count": 17,
   "id": "982655b3",
   "metadata": {},
   "outputs": [
    {
     "data": {
      "application/vnd.jupyter.widget-view+json": {
       "model_id": "1b7b882266dd41f680603a327de56727",
       "version_major": 2,
       "version_minor": 0
      },
      "text/plain": [
       "Figure(axes=[ColorAxis(orientation='vertical', scale=ColorScale(scheme='Greens'), side='right'), Axis(scale=Or…"
      ]
     },
     "metadata": {},
     "output_type": "display_data"
    },
    {
     "name": "stdout",
     "output_type": "stream",
     "text": [
      "{'name': 'selected', 'old': array([[0, 1]]), 'new': array([[5, 4]]), 'owner': GridHeatMap(color=array([[0.18102868, 0.05454827, 0.14790733, 0.24162776, 0.11821291,\n",
      "        0.98108491, 0.67358506, 0.84167553, 0.38159203, 0.24736005],\n",
      "       [0.87248269, 0.7496281 , 0.12147046, 0.49768312, 0.8150258 ,\n",
      "        0.84724483, 0.97449228, 0.66123065, 0.98790992, 0.7264286 ],\n",
      "       [0.62746968, 0.08201504, 0.3693932 , 0.69243688, 0.78808482,\n",
      "        0.34686901, 0.09467904, 0.07534954, 0.1984768 , 0.15453815],\n",
      "       [0.41372284, 0.76606028, 0.10728713, 0.76982562, 0.29883832,\n",
      "        0.44449593, 0.22529206, 0.30030013, 0.1757342 , 0.06823544],\n",
      "       [0.51601169, 0.21122179, 0.49987912, 0.25488668, 0.31463904,\n",
      "        0.29469691, 0.7317339 , 0.94535344, 0.68825464, 0.67533604],\n",
      "       [0.37748986, 0.10920031, 0.51901313, 0.82776109, 0.7392613 ,\n",
      "        0.79730977, 0.54152581, 0.12177239, 0.73828878, 0.97627915],\n",
      "       [0.56743095, 0.0384332 , 0.80993883, 0.82310542, 0.47688216,\n",
      "        0.14258527, 0.34115939, 0.06894182, 0.54985322, 0.47602536],\n",
      "       [0.71349217, 0.22290181, 0.93272549, 0.43574285, 0.81076447,\n",
      "        0.88222005, 0.55849903, 0.59861541, 0.29459664, 0.60593705],\n",
      "       [0.29584878, 0.06876203, 0.24344405, 0.47230464, 0.7601042 ,\n",
      "        0.71031593, 0.68061664, 0.22487748, 0.58324421, 0.92440572],\n",
      "       [0.57019588, 0.98235686, 0.75082184, 0.40866874, 0.19701337,\n",
      "        0.16211734, 0.90686969, 0.15765909, 0.37862091, 0.24704077]]), interactions={'click': 'select'}, scales={'color': ColorScale(scheme='Greens'), 'row': OrdinalScale(), 'column': OrdinalScale()}, scales_metadata={'row': {'orientation': 'vertical', 'dimension': 'y'}, 'column': {'orientation': 'horizontal', 'dimension': 'x'}, 'color': {'dimension': 'color'}}, selected=array([[5, 4]]), selected_style={'fill': 'magenta'}, tooltip_style={'opacity': 0.9}), 'type': 'change'}\n",
      "{'name': 'selected', 'old': array([[5, 4]]), 'new': array([[4, 7]]), 'owner': GridHeatMap(color=array([[0.18102868, 0.05454827, 0.14790733, 0.24162776, 0.11821291,\n",
      "        0.98108491, 0.67358506, 0.84167553, 0.38159203, 0.24736005],\n",
      "       [0.87248269, 0.7496281 , 0.12147046, 0.49768312, 0.8150258 ,\n",
      "        0.84724483, 0.97449228, 0.66123065, 0.98790992, 0.7264286 ],\n",
      "       [0.62746968, 0.08201504, 0.3693932 , 0.69243688, 0.78808482,\n",
      "        0.34686901, 0.09467904, 0.07534954, 0.1984768 , 0.15453815],\n",
      "       [0.41372284, 0.76606028, 0.10728713, 0.76982562, 0.29883832,\n",
      "        0.44449593, 0.22529206, 0.30030013, 0.1757342 , 0.06823544],\n",
      "       [0.51601169, 0.21122179, 0.49987912, 0.25488668, 0.31463904,\n",
      "        0.29469691, 0.7317339 , 0.94535344, 0.68825464, 0.67533604],\n",
      "       [0.37748986, 0.10920031, 0.51901313, 0.82776109, 0.7392613 ,\n",
      "        0.79730977, 0.54152581, 0.12177239, 0.73828878, 0.97627915],\n",
      "       [0.56743095, 0.0384332 , 0.80993883, 0.82310542, 0.47688216,\n",
      "        0.14258527, 0.34115939, 0.06894182, 0.54985322, 0.47602536],\n",
      "       [0.71349217, 0.22290181, 0.93272549, 0.43574285, 0.81076447,\n",
      "        0.88222005, 0.55849903, 0.59861541, 0.29459664, 0.60593705],\n",
      "       [0.29584878, 0.06876203, 0.24344405, 0.47230464, 0.7601042 ,\n",
      "        0.71031593, 0.68061664, 0.22487748, 0.58324421, 0.92440572],\n",
      "       [0.57019588, 0.98235686, 0.75082184, 0.40866874, 0.19701337,\n",
      "        0.16211734, 0.90686969, 0.15765909, 0.37862091, 0.24704077]]), interactions={'click': 'select'}, scales={'color': ColorScale(scheme='Greens'), 'row': OrdinalScale(), 'column': OrdinalScale()}, scales_metadata={'row': {'orientation': 'vertical', 'dimension': 'y'}, 'column': {'orientation': 'horizontal', 'dimension': 'x'}, 'color': {'dimension': 'color'}}, selected=array([[4, 7]]), selected_style={'fill': 'magenta'}, tooltip_style={'opacity': 0.9}), 'type': 'change'}\n"
     ]
    }
   ],
   "source": [
    "# 2. Scales\n",
    "col_sc = bqplot.ColorScale(scheme='Greens')\n",
    "x_sc = bqplot.OrdinalScale()\n",
    "y_sc = bqplot.OrdinalScale()\n",
    "\n",
    "# 3. Axis -- skip this for right now\n",
    "col_ax = bqplot.ColorAxis(scale=col_sc, \n",
    "                         orientation='vertical',\n",
    "                         side='right')\n",
    "x_ax = bqplot.Axis(scale=x_sc)\n",
    "y_ax = bqplot.Axis(scale=y_sc, orientation='vertical')\n",
    "\n",
    "# 4. Mark -- grid heatmap\n",
    "heat_map = bqplot.GridHeatMap(color=data, \n",
    "                              scales={'color':col_sc, 'row':y_sc, 'column':x_sc},\n",
    "                             interactions={'click':'select'},\n",
    "                             selected_style={'fill':'magenta'})\n",
    "\n",
    "# 5. interactions -- skip for now as well\n",
    "\n",
    "# put it all together as a figure\n",
    "fig = bqplot.Figure(marks=[heat_map], axes=[col_ax, x_ax,y_ax])\n",
    "fig"
   ]
  },
  {
   "cell_type": "code",
   "execution_count": 18,
   "id": "9e68d143",
   "metadata": {},
   "outputs": [
    {
     "data": {
      "text/plain": [
       "['_model_module',\n",
       " '_model_module_version',\n",
       " '_model_name',\n",
       " '_view_count',\n",
       " '_view_module',\n",
       " '_view_module_version',\n",
       " '_view_name',\n",
       " 'anchor_style',\n",
       " 'apply_clip',\n",
       " 'color',\n",
       " 'column',\n",
       " 'column_align',\n",
       " 'display_format',\n",
       " 'display_legend',\n",
       " 'enable_hover',\n",
       " 'font_style',\n",
       " 'interactions',\n",
       " 'labels',\n",
       " 'null_color',\n",
       " 'opacity',\n",
       " 'preserve_domain',\n",
       " 'row',\n",
       " 'row_align',\n",
       " 'scales',\n",
       " 'scales_metadata',\n",
       " 'selected',\n",
       " 'selected_style',\n",
       " 'stroke',\n",
       " 'tooltip',\n",
       " 'tooltip_location',\n",
       " 'tooltip_style',\n",
       " 'unselected_style',\n",
       " 'visible']"
      ]
     },
     "execution_count": 18,
     "metadata": {},
     "output_type": "execute_result"
    }
   ],
   "source": [
    "heat_map.keys"
   ]
  },
  {
   "cell_type": "code",
   "execution_count": 20,
   "id": "6ebc8818",
   "metadata": {},
   "outputs": [
    {
     "data": {
      "text/plain": [
       "array([[0, 1]])"
      ]
     },
     "execution_count": 20,
     "metadata": {},
     "output_type": "execute_result"
    }
   ],
   "source": [
    "heat_map.selected"
   ]
  },
  {
   "cell_type": "code",
   "execution_count": 21,
   "id": "216fc116",
   "metadata": {},
   "outputs": [],
   "source": [
    "def on_selected(change):\n",
    "    print(change)"
   ]
  },
  {
   "cell_type": "code",
   "execution_count": 22,
   "id": "0f5db6f0",
   "metadata": {},
   "outputs": [],
   "source": [
    "heat_map.observe(on_selected,'selected')"
   ]
  },
  {
   "cell_type": "code",
   "execution_count": 23,
   "id": "54cd040d",
   "metadata": {},
   "outputs": [
    {
     "data": {
      "application/vnd.jupyter.widget-view+json": {
       "model_id": "bcf1f75e163444d48cf47fc58efbcef0",
       "version_major": 2,
       "version_minor": 0
      },
      "text/plain": [
       "Figure(axes=[ColorAxis(orientation='vertical', scale=ColorScale(scheme='Greens'), side='right'), Axis(scale=Or…"
      ]
     },
     "metadata": {},
     "output_type": "display_data"
    },
    {
     "name": "stdout",
     "output_type": "stream",
     "text": [
      "[[2 4]]\n",
      "[[2 3]]\n",
      "[[0 3]]\n",
      "[[3 2]]\n",
      "[[3 3]\n",
      " [3 2]]\n",
      "[[2 3]\n",
      " [2 2]\n",
      " [3 2]\n",
      " [3 3]]\n",
      "[[1 2]\n",
      " [2 2]\n",
      " [3 2]]\n",
      "[[0 5]]\n"
     ]
    }
   ],
   "source": [
    "def on_selected(change):\n",
    "    print(change['owner'].selected)\n",
    "\n",
    "# 2. Scales\n",
    "col_sc = bqplot.ColorScale(scheme='Greens')\n",
    "x_sc = bqplot.OrdinalScale()\n",
    "y_sc = bqplot.OrdinalScale()\n",
    "\n",
    "# 3. Axis -- skip this for right now\n",
    "col_ax = bqplot.ColorAxis(scale=col_sc, \n",
    "                         orientation='vertical',\n",
    "                         side='right')\n",
    "x_ax = bqplot.Axis(scale=x_sc)\n",
    "y_ax = bqplot.Axis(scale=y_sc, orientation='vertical')\n",
    "\n",
    "# 4. Mark -- grid heatmap\n",
    "heat_map = bqplot.GridHeatMap(color=data, \n",
    "                              scales={'color':col_sc, 'row':y_sc, 'column':x_sc},\n",
    "                             interactions={'click':'select'},\n",
    "                             selected_style={'fill':'magenta'})\n",
    "\n",
    "# 5. interactions -- skip for now as well\n",
    "heat_map.observe(on_selected,'selected')\n",
    "\n",
    "# put it all together as a figure\n",
    "fig = bqplot.Figure(marks=[heat_map], axes=[col_ax, x_ax,y_ax])\n",
    "fig"
   ]
  },
  {
   "cell_type": "code",
   "execution_count": 24,
   "id": "3b0adaaa",
   "metadata": {},
   "outputs": [
    {
     "data": {
      "application/vnd.jupyter.widget-view+json": {
       "model_id": "b5ea296676c8426e9938aed8c04f4fb3",
       "version_major": 2,
       "version_minor": 0
      },
      "text/plain": [
       "Figure(axes=[ColorAxis(orientation='vertical', scale=ColorScale(scheme='Greens'), side='right'), Axis(scale=Or…"
      ]
     },
     "metadata": {},
     "output_type": "display_data"
    },
    {
     "name": "stdout",
     "output_type": "stream",
     "text": [
      "[3 2]\n",
      "[2 3]\n",
      "[1 3]\n",
      "[3 5]\n",
      "[3 3]\n",
      "[5 2]\n",
      "[3 1]\n",
      "[2 3]\n",
      "[2 5]\n",
      "[2 6]\n"
     ]
    }
   ],
   "source": [
    "def on_selected(change):\n",
    "    if len(change['owner'].selected)==1: # only do things if I select a single cell\n",
    "        print(change['owner'].selected[0])\n",
    "\n",
    "# 2. Scales\n",
    "col_sc = bqplot.ColorScale(scheme='Greens')\n",
    "x_sc = bqplot.OrdinalScale()\n",
    "y_sc = bqplot.OrdinalScale()\n",
    "\n",
    "# 3. Axis -- skip this for right now\n",
    "col_ax = bqplot.ColorAxis(scale=col_sc, \n",
    "                         orientation='vertical',\n",
    "                         side='right')\n",
    "x_ax = bqplot.Axis(scale=x_sc)\n",
    "y_ax = bqplot.Axis(scale=y_sc, orientation='vertical')\n",
    "\n",
    "# 4. Mark -- grid heatmap\n",
    "heat_map = bqplot.GridHeatMap(color=data, \n",
    "                              scales={'color':col_sc, 'row':y_sc, 'column':x_sc},\n",
    "                             interactions={'click':'select'},\n",
    "                             selected_style={'fill':'magenta'})\n",
    "\n",
    "# 5. interactions -- skip for now as well\n",
    "heat_map.observe(on_selected,'selected')\n",
    "\n",
    "# put it all together as a figure\n",
    "fig = bqplot.Figure(marks=[heat_map], axes=[col_ax, x_ax,y_ax])\n",
    "fig"
   ]
  },
  {
   "cell_type": "code",
   "execution_count": 25,
   "id": "4ec38ab1",
   "metadata": {},
   "outputs": [],
   "source": [
    "myLabel = ipywidgets.Label()"
   ]
  },
  {
   "cell_type": "code",
   "execution_count": 26,
   "id": "93e4982a",
   "metadata": {},
   "outputs": [
    {
     "data": {
      "application/vnd.jupyter.widget-view+json": {
       "model_id": "7618748b58304831b79cc6daa4b9132c",
       "version_major": 2,
       "version_minor": 0
      },
      "text/plain": [
       "Label(value='')"
      ]
     },
     "metadata": {},
     "output_type": "display_data"
    }
   ],
   "source": [
    "myLabel"
   ]
  },
  {
   "cell_type": "code",
   "execution_count": 27,
   "id": "f7677e93",
   "metadata": {},
   "outputs": [
    {
     "data": {
      "application/vnd.jupyter.widget-view+json": {
       "model_id": "4426bf9623254aa8bf1306bd60318dde",
       "version_major": 2,
       "version_minor": 0
      },
      "text/plain": [
       "Figure(axes=[ColorAxis(orientation='vertical', scale=ColorScale(scheme='Greens'), side='right'), Axis(scale=Or…"
      ]
     },
     "metadata": {},
     "output_type": "display_data"
    }
   ],
   "source": [
    "def on_selected(change):\n",
    "    if len(change['owner'].selected)==1: # only do things if I select a single cell\n",
    "        #print(change['owner'].selected[0])\n",
    "        i,j =change['owner'].selected[0]\n",
    "        v = data[i,j]\n",
    "        myLabel.value = 'Data value=' + str(v)\n",
    "\n",
    "# 2. Scales\n",
    "col_sc = bqplot.ColorScale(scheme='Greens')\n",
    "x_sc = bqplot.OrdinalScale()\n",
    "y_sc = bqplot.OrdinalScale()\n",
    "\n",
    "# 3. Axis -- skip this for right now\n",
    "col_ax = bqplot.ColorAxis(scale=col_sc, \n",
    "                         orientation='vertical',\n",
    "                         side='right')\n",
    "x_ax = bqplot.Axis(scale=x_sc)\n",
    "y_ax = bqplot.Axis(scale=y_sc, orientation='vertical')\n",
    "\n",
    "# 4. Mark -- grid heatmap\n",
    "heat_map = bqplot.GridHeatMap(color=data, \n",
    "                              scales={'color':col_sc, 'row':y_sc, 'column':x_sc},\n",
    "                             interactions={'click':'select'},\n",
    "                             selected_style={'fill':'magenta'})\n",
    "\n",
    "# 5. interactions -- skip for now as well\n",
    "heat_map.observe(on_selected,'selected')\n",
    "\n",
    "# put it all together as a figure\n",
    "fig = bqplot.Figure(marks=[heat_map], axes=[col_ax, x_ax,y_ax])\n",
    "fig"
   ]
  },
  {
   "cell_type": "code",
   "execution_count": 29,
   "id": "74b27b3c",
   "metadata": {},
   "outputs": [
    {
     "data": {
      "application/vnd.jupyter.widget-view+json": {
       "model_id": "6ac4e7c5e0a04faf97cb3dd97ae1fa78",
       "version_major": 2,
       "version_minor": 0
      },
      "text/plain": [
       "VBox(children=(Label(value='Data value=0.7660602785578907'), Figure(axes=[ColorAxis(orientation='vertical', sc…"
      ]
     },
     "metadata": {},
     "output_type": "display_data"
    }
   ],
   "source": [
    "def on_selected(change):\n",
    "    if len(change['owner'].selected)==1: # only do things if I select a single cell\n",
    "        #print(change['owner'].selected[0])\n",
    "        i,j =change['owner'].selected[0]\n",
    "        v = data[i,j]\n",
    "        myLabel.value = 'Data value=' + str(v)\n",
    "\n",
    "# 2. Scales\n",
    "col_sc = bqplot.ColorScale(scheme='Greens')\n",
    "x_sc = bqplot.OrdinalScale()\n",
    "y_sc = bqplot.OrdinalScale()\n",
    "\n",
    "# 3. Axis -- skip this for right now\n",
    "col_ax = bqplot.ColorAxis(scale=col_sc, \n",
    "                         orientation='vertical',\n",
    "                         side='right')\n",
    "x_ax = bqplot.Axis(scale=x_sc)\n",
    "y_ax = bqplot.Axis(scale=y_sc, orientation='vertical')\n",
    "\n",
    "# 4. Mark -- grid heatmap\n",
    "heat_map = bqplot.GridHeatMap(color=data, \n",
    "                              scales={'color':col_sc, 'row':y_sc, 'column':x_sc},\n",
    "                             interactions={'click':'select'},\n",
    "                             selected_style={'fill':'magenta'})\n",
    "\n",
    "# 5. interactions -- skip for now as well\n",
    "heat_map.observe(on_selected,'selected')\n",
    "\n",
    "# put it all together as a figure\n",
    "fig = bqplot.Figure(marks=[heat_map], axes=[col_ax, x_ax,y_ax])\n",
    "#fig\n",
    "myDashboard = ipywidgets.VBox([myLabel,fig])\n",
    "myDashboard"
   ]
  },
  {
   "cell_type": "markdown",
   "id": "17efd492",
   "metadata": {},
   "source": [
    "## Multidimension (3D) data"
   ]
  },
  {
   "cell_type": "code",
   "execution_count": 30,
   "id": "f3bc866e",
   "metadata": {},
   "outputs": [],
   "source": [
    "data3d = np.random.random((10,10,20))"
   ]
  },
  {
   "cell_type": "code",
   "execution_count": 31,
   "id": "0f92dccd",
   "metadata": {},
   "outputs": [
    {
     "data": {
      "text/plain": [
       "(10, 10, 20)"
      ]
     },
     "execution_count": 31,
     "metadata": {},
     "output_type": "execute_result"
    }
   ],
   "source": [
    "data3d.shape"
   ]
  },
  {
   "cell_type": "code",
   "execution_count": 33,
   "id": "8fcd75ff",
   "metadata": {},
   "outputs": [
    {
     "data": {
      "text/plain": [
       "array([0.99567703, 0.7045831 , 0.74803011, 0.89077038, 0.61519606,\n",
       "       0.02119523, 0.483597  , 0.85513086, 0.14595   , 0.88418687,\n",
       "       0.79181803, 0.48996093, 0.811503  , 0.27361417, 0.88618678,\n",
       "       0.43575293, 0.84712053, 0.49017694, 0.836867  , 0.68253888])"
      ]
     },
     "execution_count": 33,
     "metadata": {},
     "output_type": "execute_result"
    }
   ],
   "source": [
    "i,j=0,0\n",
    "data3d[i,j,:]"
   ]
  },
  {
   "cell_type": "code",
   "execution_count": 34,
   "id": "03205fa6",
   "metadata": {},
   "outputs": [
    {
     "data": {
      "text/plain": [
       "0.6444927914347501"
      ]
     },
     "execution_count": 34,
     "metadata": {},
     "output_type": "execute_result"
    }
   ],
   "source": [
    "data3d[i,j,:].mean()"
   ]
  },
  {
   "cell_type": "code",
   "execution_count": 36,
   "id": "caf8f5b1",
   "metadata": {},
   "outputs": [
    {
     "data": {
      "text/plain": [
       "(10, 10)"
      ]
     },
     "execution_count": 36,
     "metadata": {},
     "output_type": "execute_result"
    }
   ],
   "source": [
    "data3d.mean(axis=2).shape"
   ]
  },
  {
   "cell_type": "code",
   "execution_count": 37,
   "id": "fcdb8af2",
   "metadata": {},
   "outputs": [
    {
     "data": {
      "application/vnd.jupyter.widget-view+json": {
       "model_id": "9262a988812e436d86f884b7d7613509",
       "version_major": 2,
       "version_minor": 0
      },
      "text/plain": [
       "VBox(children=(Label(value='Data value=0.8231054182590738'), Figure(axes=[ColorAxis(orientation='vertical', sc…"
      ]
     },
     "metadata": {},
     "output_type": "display_data"
    }
   ],
   "source": [
    "def on_selected(change):\n",
    "    if len(change['owner'].selected)==1: # only do things if I select a single cell\n",
    "        i,j =change['owner'].selected[0]\n",
    "        v = data3d[i,j,:].mean()\n",
    "        myLabel.value = 'Mean data value=' + str(v)\n",
    "\n",
    "# 2. Scales\n",
    "col_sc = bqplot.ColorScale(scheme='Greens')\n",
    "x_sc = bqplot.OrdinalScale()\n",
    "y_sc = bqplot.OrdinalScale()\n",
    "\n",
    "# 3. Axis -- skip this for right now\n",
    "col_ax = bqplot.ColorAxis(scale=col_sc, \n",
    "                         orientation='vertical',\n",
    "                         side='right')\n",
    "x_ax = bqplot.Axis(scale=x_sc)\n",
    "y_ax = bqplot.Axis(scale=y_sc, orientation='vertical')\n",
    "\n",
    "# 4. Mark -- grid heatmap\n",
    "heat_map = bqplot.GridHeatMap(color=data3d.mean(axis=2), \n",
    "                              scales={'color':col_sc, 'row':y_sc, 'column':x_sc},\n",
    "                             interactions={'click':'select'},\n",
    "                             selected_style={'fill':'magenta'})\n",
    "\n",
    "# 5. interactions -- skip for now as well\n",
    "heat_map.observe(on_selected,'selected')\n",
    "\n",
    "# put it all together as a figure\n",
    "fig = bqplot.Figure(marks=[heat_map], axes=[col_ax, x_ax,y_ax])\n",
    "#fig\n",
    "myDashboard = ipywidgets.VBox([myLabel,fig])\n",
    "myDashboard"
   ]
  },
  {
   "cell_type": "code",
   "execution_count": 38,
   "id": "acca475b",
   "metadata": {},
   "outputs": [
    {
     "data": {
      "text/plain": [
       "array([0.99567703, 0.7045831 , 0.74803011, 0.89077038, 0.61519606,\n",
       "       0.02119523, 0.483597  , 0.85513086, 0.14595   , 0.88418687,\n",
       "       0.79181803, 0.48996093, 0.811503  , 0.27361417, 0.88618678,\n",
       "       0.43575293, 0.84712053, 0.49017694, 0.836867  , 0.68253888])"
      ]
     },
     "execution_count": 38,
     "metadata": {},
     "output_type": "execute_result"
    }
   ],
   "source": [
    "# 1. data for histogram\n",
    "i,j = 0,0\n",
    "data3d[i,j]"
   ]
  },
  {
   "cell_type": "code",
   "execution_count": 39,
   "id": "4015f1fe",
   "metadata": {},
   "outputs": [],
   "source": [
    "# 2. scales for histogram\n",
    "x_sch = bqplot.LinearScale() # numerical, no reason to take log\n",
    "y_sch = bqplot.LinearScale()"
   ]
  },
  {
   "cell_type": "code",
   "execution_count": 40,
   "id": "1423288a",
   "metadata": {},
   "outputs": [],
   "source": [
    "# 3. Axis for histogram\n",
    "x_axh = bqplot.Axis(scale=x_sch, label='Value of 3rd Axis')\n",
    "y_axh = bqplot.Axis(scale=y_sch, label='Frequency', orientation='vertical')"
   ]
  },
  {
   "cell_type": "code",
   "execution_count": 42,
   "id": "50dd14f7",
   "metadata": {},
   "outputs": [],
   "source": [
    "bqplot.Hist?"
   ]
  },
  {
   "cell_type": "code",
   "execution_count": 43,
   "id": "b61ee85c",
   "metadata": {},
   "outputs": [],
   "source": [
    "hist = bqplot.Hist(sample=data3d[i,j,:],\n",
    "                  scales={'sample':x_sch,'count':y_sch}, bins=5)"
   ]
  },
  {
   "cell_type": "code",
   "execution_count": 44,
   "id": "f85dccac",
   "metadata": {},
   "outputs": [
    {
     "data": {
      "application/vnd.jupyter.widget-view+json": {
       "model_id": "875334a617cf4182bf4a21dd07890614",
       "version_major": 2,
       "version_minor": 0
      },
      "text/plain": [
       "Figure(axes=[Axis(label='Value of 3rd Axis', scale=LinearScale(), side='bottom'), Axis(label='Frequency', orie…"
      ]
     },
     "metadata": {},
     "output_type": "display_data"
    }
   ],
   "source": [
    "# put it all together in a histogram\n",
    "figh = bqplot.Figure(marks=[hist], axes=[x_axh, y_axh])\n",
    "figh"
   ]
  },
  {
   "cell_type": "code",
   "execution_count": 45,
   "id": "e0607d4c",
   "metadata": {},
   "outputs": [
    {
     "data": {
      "text/plain": [
       "['_model_module',\n",
       " '_model_module_version',\n",
       " '_model_name',\n",
       " '_view_count',\n",
       " '_view_module',\n",
       " '_view_module_version',\n",
       " '_view_name',\n",
       " 'apply_clip',\n",
       " 'bins',\n",
       " 'colors',\n",
       " 'count',\n",
       " 'display_legend',\n",
       " 'enable_hover',\n",
       " 'interactions',\n",
       " 'labels',\n",
       " 'midpoints',\n",
       " 'normalized',\n",
       " 'opacities',\n",
       " 'preserve_domain',\n",
       " 'sample',\n",
       " 'scales',\n",
       " 'scales_metadata',\n",
       " 'selected',\n",
       " 'selected_style',\n",
       " 'stroke',\n",
       " 'tooltip',\n",
       " 'tooltip_location',\n",
       " 'tooltip_style',\n",
       " 'unselected_style',\n",
       " 'visible']"
      ]
     },
     "execution_count": 45,
     "metadata": {},
     "output_type": "execute_result"
    }
   ],
   "source": [
    "hist.keys"
   ]
  },
  {
   "cell_type": "code",
   "execution_count": 46,
   "id": "5ee66873",
   "metadata": {},
   "outputs": [
    {
     "data": {
      "text/plain": [
       "array([0.99567703, 0.7045831 , 0.74803011, 0.89077038, 0.61519606,\n",
       "       0.02119523, 0.483597  , 0.85513086, 0.14595   , 0.88418687,\n",
       "       0.79181803, 0.48996093, 0.811503  , 0.27361417, 0.88618678,\n",
       "       0.43575293, 0.84712053, 0.49017694, 0.836867  , 0.68253888])"
      ]
     },
     "execution_count": 46,
     "metadata": {},
     "output_type": "execute_result"
    }
   ],
   "source": [
    "hist.sample"
   ]
  },
  {
   "cell_type": "code",
   "execution_count": 49,
   "id": "65bde536",
   "metadata": {},
   "outputs": [],
   "source": [
    "def on_selected(change):\n",
    "    if len(change['owner'].selected)==1: # only do things if I select a single cell\n",
    "        i,j =change['owner'].selected[0]\n",
    "        v = data3d[i,j,:].mean()\n",
    "        myLabel.value = 'Mean data value=' + str(v)\n",
    "        # add update for histogram\n",
    "        hist.sample = data3d[i,j,:]\n",
    "\n",
    "# 2. Scales\n",
    "col_sc = bqplot.ColorScale(scheme='Greens')\n",
    "x_sc = bqplot.OrdinalScale()\n",
    "y_sc = bqplot.OrdinalScale()\n",
    "\n",
    "# 3. Axis -- skip this for right now\n",
    "col_ax = bqplot.ColorAxis(scale=col_sc, \n",
    "                         orientation='vertical',\n",
    "                         side='right')\n",
    "x_ax = bqplot.Axis(scale=x_sc)\n",
    "y_ax = bqplot.Axis(scale=y_sc, orientation='vertical')\n",
    "\n",
    "# 4. Mark -- grid heatmap\n",
    "heat_map = bqplot.GridHeatMap(color=data3d.mean(axis=2), \n",
    "                              scales={'color':col_sc, 'row':y_sc, 'column':x_sc},\n",
    "                             interactions={'click':'select'},\n",
    "                             selected_style={'fill':'magenta'})\n",
    "\n",
    "# 5. interactions -- skip for now as well\n",
    "heat_map.observe(on_selected,'selected')\n",
    "\n",
    "# put it all together as a figure\n",
    "fig = bqplot.Figure(marks=[heat_map], axes=[col_ax, x_ax,y_ax])\n",
    "#fig\n",
    "#myDashboard = ipywidgets.VBox([myLabel,fig])\n",
    "#myDashboard"
   ]
  },
  {
   "cell_type": "code",
   "execution_count": 50,
   "id": "9bf41d10",
   "metadata": {},
   "outputs": [
    {
     "data": {
      "application/vnd.jupyter.widget-view+json": {
       "model_id": "358498ad453d4d2491c29acbe66d8263",
       "version_major": 2,
       "version_minor": 0
      },
      "text/plain": [
       "VBox(children=(Label(value='Mean data value=0.4661711773647341'), HBox(children=(Figure(axes=[ColorAxis(orient…"
      ]
     },
     "metadata": {},
     "output_type": "display_data"
    }
   ],
   "source": [
    "# put the label on top, figures on the bottom\n",
    "figures = ipywidgets.HBox([fig, figh])\n",
    "\n",
    "myDashboard = ipywidgets.VBox([myLabel, figures])\n",
    "myDashboard"
   ]
  },
  {
   "cell_type": "code",
   "execution_count": 51,
   "id": "2419c4d2",
   "metadata": {},
   "outputs": [],
   "source": [
    "fig.layout.min_width='500px'\n",
    "figh.layout.min_width='500px'"
   ]
  },
  {
   "cell_type": "markdown",
   "id": "b6590095",
   "metadata": {},
   "source": [
    "## \"Real\" data dashboard with the UFOs dataset"
   ]
  },
  {
   "cell_type": "code",
   "execution_count": 52,
   "id": "f2e75bcd",
   "metadata": {},
   "outputs": [],
   "source": [
    "data_url = 'https://raw.githubusercontent.com/UIUC-iSchool-DataViz/is445_bcubcg_fall2022/main/data/ufo-scrubbed-geocoded-time-standardized-00.csv'\n",
    "ufos = pd.read_csv(data_url,\n",
    "                  names = [\"date\", \"city\", \"state\", \"country\",\n",
    "                          \"shape\", \"duration_seconds\", \"duration\",\n",
    "                          \"comment\", \"report_date\", \n",
    "                           \"latitude\", \"longitude\"],\n",
    "                  parse_dates = [\"date\", \"report_date\"])"
   ]
  },
  {
   "cell_type": "code",
   "execution_count": 53,
   "id": "b4a15771",
   "metadata": {},
   "outputs": [
    {
     "data": {
      "text/html": [
       "<div>\n",
       "<style scoped>\n",
       "    .dataframe tbody tr th:only-of-type {\n",
       "        vertical-align: middle;\n",
       "    }\n",
       "\n",
       "    .dataframe tbody tr th {\n",
       "        vertical-align: top;\n",
       "    }\n",
       "\n",
       "    .dataframe thead th {\n",
       "        text-align: right;\n",
       "    }\n",
       "</style>\n",
       "<table border=\"1\" class=\"dataframe\">\n",
       "  <thead>\n",
       "    <tr style=\"text-align: right;\">\n",
       "      <th></th>\n",
       "      <th>date</th>\n",
       "      <th>city</th>\n",
       "      <th>state</th>\n",
       "      <th>country</th>\n",
       "      <th>shape</th>\n",
       "      <th>duration_seconds</th>\n",
       "      <th>duration</th>\n",
       "      <th>comment</th>\n",
       "      <th>report_date</th>\n",
       "      <th>latitude</th>\n",
       "      <th>longitude</th>\n",
       "    </tr>\n",
       "  </thead>\n",
       "  <tbody>\n",
       "    <tr>\n",
       "      <th>0</th>\n",
       "      <td>1949-10-10 20:30:00</td>\n",
       "      <td>san marcos</td>\n",
       "      <td>tx</td>\n",
       "      <td>us</td>\n",
       "      <td>cylinder</td>\n",
       "      <td>2700.0</td>\n",
       "      <td>45 minutes</td>\n",
       "      <td>This event took place in early fall around 194...</td>\n",
       "      <td>2004-04-27</td>\n",
       "      <td>29.883056</td>\n",
       "      <td>-97.941111</td>\n",
       "    </tr>\n",
       "    <tr>\n",
       "      <th>1</th>\n",
       "      <td>1949-10-10 21:00:00</td>\n",
       "      <td>lackland afb</td>\n",
       "      <td>tx</td>\n",
       "      <td>NaN</td>\n",
       "      <td>light</td>\n",
       "      <td>7200.0</td>\n",
       "      <td>1-2 hrs</td>\n",
       "      <td>1949 Lackland AFB&amp;#44 TX.  Lights racing acros...</td>\n",
       "      <td>2005-12-16</td>\n",
       "      <td>29.384210</td>\n",
       "      <td>-98.581082</td>\n",
       "    </tr>\n",
       "    <tr>\n",
       "      <th>2</th>\n",
       "      <td>1955-10-10 17:00:00</td>\n",
       "      <td>chester (uk/england)</td>\n",
       "      <td>NaN</td>\n",
       "      <td>gb</td>\n",
       "      <td>circle</td>\n",
       "      <td>20.0</td>\n",
       "      <td>20 seconds</td>\n",
       "      <td>Green/Orange circular disc over Chester&amp;#44 En...</td>\n",
       "      <td>2008-01-21</td>\n",
       "      <td>53.200000</td>\n",
       "      <td>-2.916667</td>\n",
       "    </tr>\n",
       "    <tr>\n",
       "      <th>3</th>\n",
       "      <td>1956-10-10 21:00:00</td>\n",
       "      <td>edna</td>\n",
       "      <td>tx</td>\n",
       "      <td>us</td>\n",
       "      <td>circle</td>\n",
       "      <td>20.0</td>\n",
       "      <td>1/2 hour</td>\n",
       "      <td>My older brother and twin sister were leaving ...</td>\n",
       "      <td>2004-01-17</td>\n",
       "      <td>28.978333</td>\n",
       "      <td>-96.645833</td>\n",
       "    </tr>\n",
       "    <tr>\n",
       "      <th>4</th>\n",
       "      <td>1960-10-10 20:00:00</td>\n",
       "      <td>kaneohe</td>\n",
       "      <td>hi</td>\n",
       "      <td>us</td>\n",
       "      <td>light</td>\n",
       "      <td>900.0</td>\n",
       "      <td>15 minutes</td>\n",
       "      <td>AS a Marine 1st Lt. flying an FJ4B fighter/att...</td>\n",
       "      <td>2004-01-22</td>\n",
       "      <td>21.418056</td>\n",
       "      <td>-157.803611</td>\n",
       "    </tr>\n",
       "  </tbody>\n",
       "</table>\n",
       "</div>"
      ],
      "text/plain": [
       "                 date                  city state country     shape  \\\n",
       "0 1949-10-10 20:30:00            san marcos    tx      us  cylinder   \n",
       "1 1949-10-10 21:00:00          lackland afb    tx     NaN     light   \n",
       "2 1955-10-10 17:00:00  chester (uk/england)   NaN      gb    circle   \n",
       "3 1956-10-10 21:00:00                  edna    tx      us    circle   \n",
       "4 1960-10-10 20:00:00               kaneohe    hi      us     light   \n",
       "\n",
       "   duration_seconds    duration  \\\n",
       "0            2700.0  45 minutes   \n",
       "1            7200.0     1-2 hrs   \n",
       "2              20.0  20 seconds   \n",
       "3              20.0    1/2 hour   \n",
       "4             900.0  15 minutes   \n",
       "\n",
       "                                             comment report_date   latitude  \\\n",
       "0  This event took place in early fall around 194...  2004-04-27  29.883056   \n",
       "1  1949 Lackland AFB&#44 TX.  Lights racing acros...  2005-12-16  29.384210   \n",
       "2  Green/Orange circular disc over Chester&#44 En...  2008-01-21  53.200000   \n",
       "3  My older brother and twin sister were leaving ...  2004-01-17  28.978333   \n",
       "4  AS a Marine 1st Lt. flying an FJ4B fighter/att...  2004-01-22  21.418056   \n",
       "\n",
       "    longitude  \n",
       "0  -97.941111  \n",
       "1  -98.581082  \n",
       "2   -2.916667  \n",
       "3  -96.645833  \n",
       "4 -157.803611  "
      ]
     },
     "execution_count": 53,
     "metadata": {},
     "output_type": "execute_result"
    }
   ],
   "source": [
    "ufos.head()"
   ]
  },
  {
   "cell_type": "code",
   "execution_count": 54,
   "id": "ff48bc05",
   "metadata": {},
   "outputs": [],
   "source": [
    "def generate_histogram_from_lat_long(ufos, nlong=20, nlat=20, longmin=-150, longmax=150,\n",
    "                                     latmin=-40, latmax=70,\n",
    "                                     takeLog=True):\n",
    "    long_bins = np.linspace(longmin, longmax, nlong+1)\n",
    "    lat_bins = np.linspace(latmin, latmax, nlat+1)\n",
    "    hist2d, long_edges, lat_edges = np.histogram2d(ufos['longitude'], \n",
    "                                                   ufos['latitude'], \n",
    "                                                   weights=ufos['duration_seconds'],\n",
    "                                                  bins = [long_bins,lat_bins])\n",
    "    hist2d = hist2d.T\n",
    "    if takeLog:\n",
    "        hist2d[hist2d <= 0] = np.nan # set zeros to NaNs\n",
    "        # then take log\n",
    "        hist2d = np.log10(hist2d)\n",
    "    long_centers = (long_edges[:-1] + long_edges[1:]) / 2\n",
    "    lat_centers = (lat_edges[:-1] + lat_edges[1:]) / 2\n",
    "    return hist2d, long_centers, lat_centers, long_edges, lat_edges"
   ]
  },
  {
   "cell_type": "code",
   "execution_count": 55,
   "id": "b26eaf88",
   "metadata": {},
   "outputs": [
    {
     "data": {
      "text/plain": [
       "80332"
      ]
     },
     "execution_count": 55,
     "metadata": {},
     "output_type": "execute_result"
    }
   ],
   "source": [
    "len(ufos)"
   ]
  },
  {
   "cell_type": "code",
   "execution_count": 56,
   "id": "02e5b009",
   "metadata": {},
   "outputs": [
    {
     "data": {
      "text/plain": [
       "array([64155, 12979, 48970,   642, 59928, 78777, 61941, 77387, 77324,\n",
       "       54952, 16359, 17918, 33260, 23558, 55254,  9585, 22485, 13349,\n",
       "       62878, 56257, 42135, 33384, 43350, 12770, 27466, 33831, 51674,\n",
       "       37324, 18664, 48198, 22517, 48189, 65358, 72268, 44023, 26760,\n",
       "       48243, 50243, 28919, 10385,  3478, 50634, 15283, 43259, 30420,\n",
       "       38445, 34068,  2126, 60990, 52019, 53703, 55598, 47058, 35073,\n",
       "       34048, 47343, 63344,  4189, 33224, 33598,  8182, 56321, 65545,\n",
       "        4942, 70456,  7083, 33298, 58093,  5792, 11618, 45701, 58669,\n",
       "         375, 79201, 13491,  3101, 21224, 16767, 16731, 71614, 41021,\n",
       "       17689, 43646,  2129, 50979,  3148, 60124, 62571, 10997, 53745,\n",
       "       29786, 58955, 59881, 24111, 47267, 48771, 20061, 63019,  9316,\n",
       "        2685, 18810, 30232, 65120, 49800, 67510, 16444, 70603, 63891,\n",
       "       19538, 58001, 20273, 64124,  6617, 34190,  7319, 60953, 77792,\n",
       "        2452, 25106, 57315, 44598, 59683, 14846, 67405, 39442, 75049,\n",
       "       51688, 65359, 75887, 11593, 52790, 58633, 54957,  6576, 10073,\n",
       "       53021, 37904, 37444, 32996, 53755, 49953, 36123, 37866, 77144,\n",
       "       22887, 17641, 20572, 21164, 30452, 60117, 53938, 38287,   135,\n",
       "       21142, 63855, 31361, 65145, 36826, 49088, 26045, 32932, 34904,\n",
       "       24745, 57887, 63540,  2841,  8078, 54543, 41481, 59355, 29749,\n",
       "       46418, 48247, 16993, 70496, 56621, 38822, 54001, 29831, 26920,\n",
       "       74878, 24568, 52490, 17836, 75426, 39740, 31655, 63303, 11865,\n",
       "       46077, 23667, 31260, 59985, 31885, 58249, 55724, 76126, 37980,\n",
       "       75615, 24828, 14670, 74360, 39786, 18014, 78778,  5716, 51918,\n",
       "       33137, 61239, 58697, 12627, 32277, 68822, 58982, 31527, 70393,\n",
       "       77806, 14024,  4936, 41158, 55147, 16526, 11200, 37670, 35726,\n",
       "       70189, 22537, 20221, 25163, 38565, 15370, 75712, 37269, 13640,\n",
       "        2764,  4016, 41605, 70916, 63219, 25447, 63298, 13315, 64098,\n",
       "       22677,   164, 54417, 40367,  7212, 42945, 66996, 59556, 60770,\n",
       "       39384, 41939, 47551, 55675, 36606,  3825, 67177, 36685, 47339,\n",
       "       14191, 55666, 20547, 69958, 44065, 54675, 72611, 15555, 46589,\n",
       "       79469,  5119, 11802, 54180, 62907, 22361, 16710, 79196, 45071,\n",
       "       31892,  3225,  1138, 66392, 27497, 30901, 26753, 17257,   232,\n",
       "       34013, 21380, 56439, 27684, 34326, 77178, 30838, 47731, 79026,\n",
       "       60488, 62710, 47096, 43988, 36524,  7366, 68163, 38370, 26931,\n",
       "       38183,  6918, 22297, 36817, 12180,  1229,  7169, 26823, 70913,\n",
       "       62586, 77228,  9309, 41942, 63296, 47226, 16143,  6978, 33251,\n",
       "       20977, 77096, 22162, 11401, 61743, 54088, 49371, 52073, 56657,\n",
       "       47822,  2991, 39220, 17223, 19495, 55457,  5084, 48557, 54184,\n",
       "       34022, 11347, 52246, 25718,  5458, 62822, 37439, 36759, 32652,\n",
       "       28652,  7036, 63607, 70882, 12821, 24420, 42150, 37621, 62913,\n",
       "       72546, 70699, 38184, 58555, 11056,  1741, 45055, 70032, 60981,\n",
       "       53276, 40598,  6109, 31305, 32918, 75145, 23504, 65056, 17729,\n",
       "       30908, 41962, 16078, 77430, 42436,  1682, 24944, 34324, 43334,\n",
       "       41106,  3768, 20597,  8648, 76603, 23400, 65352, 62680, 55310,\n",
       "       12751, 16492, 60921, 20405, 77269, 55705, 39304, 79454, 26212,\n",
       "       58577, 43657, 31384, 56951, 39161, 26425, 68189, 75491, 66624,\n",
       "       47039, 50043, 78018, 31107, 67127,  9387, 69886, 27097, 23126,\n",
       "        6803, 22726, 55061, 72672, 16878, 74749, 11866, 36619,  1158,\n",
       "       74128, 71225, 42825, 39758, 58878, 38142, 54029, 57580, 24074,\n",
       "       30096,  2179, 42115, 33164, 44471, 66150, 73603, 35945, 59303,\n",
       "       26565, 75376, 55189, 52876, 66548, 64957, 38092, 31989, 48242,\n",
       "       11651, 74797, 41319, 78366, 72675,  4180, 58133,  8779, 78132,\n",
       "        9888, 69547, 66250, 61238, 11806, 59796, 39734, 42871, 34909,\n",
       "       40789, 36386, 35756, 26965, 62151, 64991,  5346, 33918, 67610,\n",
       "        3128, 31084, 59250, 67134, 12333,  5434, 39195,    48, 40577,\n",
       "       41042, 74221, 70012, 26052, 52396, 66509, 13571, 30025, 32844,\n",
       "       75927, 18349, 64505, 68776, 25383, 21159, 51555, 55667, 14148,\n",
       "       32674, 38876,  2103, 77006, 42427, 25973, 75845, 59019, 67574,\n",
       "       39584, 67893, 51729, 24703, 66456, 76208, 62268, 12031, 78862,\n",
       "       10216, 15239, 77817, 74649, 53649, 70571,  6917, 79377, 41688,\n",
       "        7744, 34360, 61042, 49524, 13480, 59329, 71223, 38331, 49285,\n",
       "       44257, 55108, 63231, 50376, 44750, 33605, 55768,  8540, 70089,\n",
       "        2215, 36011, 39484, 72762, 23725,  7593, 46428, 65768, 67926,\n",
       "       45995, 35215, 46223, 55841, 54339, 29574, 22017, 60248, 16190,\n",
       "       46850, 51910, 26707, 31962, 78612, 40499, 57947, 54627, 60507,\n",
       "       25712, 37921, 17346, 76099, 12001, 28699,  3917, 33587, 51027,\n",
       "       23130, 79076, 76682, 39072, 41633, 65616,  5962, 15834, 30692,\n",
       "       32745, 71324, 69174, 49028, 61576, 33432, 57733, 62716, 66893,\n",
       "        4494, 75502, 51637, 26579, 51341, 54362, 18433, 65155, 64363,\n",
       "       64793, 50260, 47320, 10488, 60926, 47363, 11316, 27289, 33858,\n",
       "       31441, 71731, 66765,  2897, 22646, 63893, 45146, 34423, 50965,\n",
       "       37163, 27789, 63428,  3141, 52430, 68775, 28841, 30802, 52236,\n",
       "        5002, 66970, 63446, 59725, 20986, 19632, 45230, 29908, 28836,\n",
       "       67886, 78700, 73380, 44315, 35172, 79635, 42758, 75610, 49265,\n",
       "        9574,  2195,  6590, 28076, 70402, 14879, 13167, 33877,  2934,\n",
       "       12407, 36131, 44596, 10401, 51876, 45941, 75793, 30460, 73778,\n",
       "       26729, 77570, 76809, 79464, 56965, 42834, 38600, 69474,  5492,\n",
       "       60483, 36491, 38422, 37874, 32530, 10398, 23093, 36899,  2968,\n",
       "       19883,  3592, 65894, 39932, 14980,  1419, 74618, 25542, 47577,\n",
       "       13420, 56411, 68606, 70058,  4746,  7626, 42235, 56299, 66002,\n",
       "       66592, 56700, 31462,  6264, 75701, 30871, 64315, 69199, 57788,\n",
       "       54470, 42356, 42470, 32594, 36903, 28247, 58148, 48110,  7041,\n",
       "       75675, 22050, 10544, 37802, 17107, 40241, 47134, 21645, 39274,\n",
       "       17764,  3855, 41668, 49382,  9705, 31973, 25479,  3857, 24068,\n",
       "       28421, 44724, 60045, 34504, 36949,  3982, 59182, 23791, 79833,\n",
       "       68238, 44110, 25095,  1583, 32522, 49848, 23594, 41730, 65753,\n",
       "       38583, 53103, 50422, 17322, 68752, 48350, 75826,  2166, 66881,\n",
       "       50135, 23627,  2238,  7120, 21946, 29572, 70710, 15388, 27628,\n",
       "       52958, 71788, 73119, 49974, 40102, 20601, 12948, 14432, 80045,\n",
       "       26862, 35892, 21417, 31966, 34652,  8381, 45375, 45914, 44109,\n",
       "       10431, 14834, 25689, 64230, 12281, 57251, 57397, 36139, 61616,\n",
       "       71060, 41966, 71005, 26244, 70549, 76836, 26291,  7473, 66547,\n",
       "       62378, 78506,  8139, 16990, 31089, 30978, 57031, 66153, 18303,\n",
       "       36711, 73115, 70210,  1975,  6272, 18900, 57569, 36723, 48628,\n",
       "        5435, 63919, 75206, 26537, 52532, 63601, 42062, 64614,  3601,\n",
       "       55987, 60831, 33599, 29438, 19565, 70539, 79133, 79504, 22572,\n",
       "       10094, 47993, 71681, 45929, 35241, 39524, 35374, 10064, 38739,\n",
       "       54915,  8687, 48934, 56954, 30541, 68443, 62458,  5511, 64371,\n",
       "       44977, 49869, 65987, 70483, 21944, 43925, 54776, 66983, 52999,\n",
       "       44581, 30486, 17061, 41464, 79844, 20690, 65093, 47456, 27120,\n",
       "       77000, 21758, 29465, 72174, 60653, 78546, 31931, 30560, 66415,\n",
       "        9287, 39628, 71541, 63959, 48840, 71699, 27121, 43086, 54098,\n",
       "       20278, 44918, 28057, 20332, 70335, 10402,   223, 21354, 45020,\n",
       "       21101, 79081, 63727, 20475, 63728, 35236, 47310, 21459, 31675,\n",
       "       67676, 66962, 40986, 26350,   698, 72625, 37040, 45262, 71010,\n",
       "        7274, 57147, 36792, 12283, 62698, 77332, 36285, 12864, 68724,\n",
       "       11418, 26660, 51097, 23689, 76525,  3818, 36764,  2817, 79780,\n",
       "        1192, 62177, 39907, 38261, 52394, 45736, 10523, 80079, 24778,\n",
       "       50669, 59203, 10418, 23478, 66333, 66885,  8997, 10060,  7475,\n",
       "       53586, 47331, 71009, 66629, 76969, 16762,  7570, 11757, 76759,\n",
       "       70106, 52074,  2468, 34599, 22444, 61394, 10908,  2303,  2274,\n",
       "       66695])"
      ]
     },
     "execution_count": 56,
     "metadata": {},
     "output_type": "execute_result"
    }
   ],
   "source": [
    "nsamples = 1000\n",
    "downSampleMask = np.random.choice(range(len(ufos)-1),nsamples, replace=False)\n",
    "downSampleMask"
   ]
  },
  {
   "cell_type": "code",
   "execution_count": 57,
   "id": "694b9ae8",
   "metadata": {},
   "outputs": [],
   "source": [
    "ufosDS = ufos.loc[downSampleMask]"
   ]
  },
  {
   "cell_type": "code",
   "execution_count": 58,
   "id": "1d2eac09",
   "metadata": {},
   "outputs": [
    {
     "data": {
      "text/plain": [
       "1000"
      ]
     },
     "execution_count": 58,
     "metadata": {},
     "output_type": "execute_result"
    }
   ],
   "source": [
    "len(ufosDS)"
   ]
  },
  {
   "cell_type": "code",
   "execution_count": 60,
   "id": "3fe3d808",
   "metadata": {},
   "outputs": [
    {
     "data": {
      "application/vnd.jupyter.widget-view+json": {
       "model_id": "92da42c95e7b46a481a2cfa0e404681c",
       "version_major": 2,
       "version_minor": 0
      },
      "text/plain": [
       "Figure(axes=[Axis(label='Longitude', scale=LinearScale()), Axis(label='Latitude', orientation='vertical', scal…"
      ]
     },
     "metadata": {},
     "output_type": "display_data"
    }
   ],
   "source": [
    "# 2. scales \n",
    "x_sc = bqplot.LinearScale()\n",
    "y_sc = bqplot.LinearScale()\n",
    "\n",
    "# 3. axis\n",
    "x_ax = bqplot.Axis(scale=x_sc, label='Longitude')\n",
    "y_ax = bqplot.Axis(scale=y_sc, label='Latitude', orientation='vertical')\n",
    "\n",
    "# 4. marks\n",
    "scatters = bqplot.Scatter(x=ufosDS['longitude'], y =ufosDS['latitude'], \n",
    "                         scales={'x':x_sc, 'y':y_sc})\n",
    "\n",
    "# all together now!\n",
    "fig = bqplot.Figure(marks=[scatters], axes=[x_ax,y_ax])\n",
    "fig"
   ]
  },
  {
   "cell_type": "code",
   "execution_count": 62,
   "id": "7e47dbd1",
   "metadata": {},
   "outputs": [
    {
     "data": {
      "application/vnd.jupyter.widget-view+json": {
       "model_id": "f8184657ab194e70ae62bba7f8e1d818",
       "version_major": 2,
       "version_minor": 0
      },
      "text/plain": [
       "Figure(axes=[Axis(label='Longitude', scale=LinearScale()), Axis(label='Latitude', orientation='vertical', scal…"
      ]
     },
     "metadata": {},
     "output_type": "display_data"
    }
   ],
   "source": [
    "# 2. scales \n",
    "x_sc = bqplot.LinearScale()\n",
    "y_sc = bqplot.LinearScale()\n",
    "col_sc = bqplot.ColorScale()\n",
    "\n",
    "# 3. axis\n",
    "x_ax = bqplot.Axis(scale=x_sc, label='Longitude')\n",
    "y_ax = bqplot.Axis(scale=y_sc, label='Latitude', orientation='vertical')\n",
    "\n",
    "# 4. marks\n",
    "scatters = bqplot.Scatter(x=ufosDS['longitude'], y =ufosDS['latitude'], color=ufosDS['duration_seconds'],\n",
    "                         scales={'x':x_sc, 'y':y_sc, 'color':col_sc})\n",
    "\n",
    "# all together now!\n",
    "fig = bqplot.Figure(marks=[scatters], axes=[x_ax,y_ax])\n",
    "fig"
   ]
  },
  {
   "cell_type": "code",
   "execution_count": 63,
   "id": "e5609277",
   "metadata": {},
   "outputs": [
    {
     "data": {
      "text/plain": [
       "(0.01, 52623200.0)"
      ]
     },
     "execution_count": 63,
     "metadata": {},
     "output_type": "execute_result"
    }
   ],
   "source": [
    "ufosDS['duration_seconds'].min(), ufosDS['duration_seconds'].max()"
   ]
  },
  {
   "cell_type": "code",
   "execution_count": 65,
   "id": "c71063e8",
   "metadata": {},
   "outputs": [
    {
     "data": {
      "application/vnd.jupyter.widget-view+json": {
       "model_id": "6bd0ee3959464a06861f4317fa393201",
       "version_major": 2,
       "version_minor": 0
      },
      "text/plain": [
       "Figure(axes=[Axis(label='Longitude', scale=LinearScale()), Axis(label='Latitude', orientation='vertical', scal…"
      ]
     },
     "metadata": {},
     "output_type": "display_data"
    }
   ],
   "source": [
    "# 2. scales \n",
    "x_sc = bqplot.LinearScale()\n",
    "y_sc = bqplot.LinearScale()\n",
    "col_sc = bqplot.ColorScale()\n",
    "\n",
    "# 3. axis\n",
    "x_ax = bqplot.Axis(scale=x_sc, label='Longitude')\n",
    "y_ax = bqplot.Axis(scale=y_sc, label='Latitude', orientation='vertical')\n",
    "col_ax = bqplot.ColorAxis(scale=col_sc, label='log10(sec)', \n",
    "                         orientation='vertical', side='right')\n",
    "\n",
    "# 4. marks\n",
    "scatters = bqplot.Scatter(x=ufosDS['longitude'], y =ufosDS['latitude'], color=np.log10(ufosDS['duration_seconds']),\n",
    "                         scales={'x':x_sc, 'y':y_sc, 'color':col_sc})\n",
    "\n",
    "# all together now!\n",
    "fig = bqplot.Figure(marks=[scatters], axes=[x_ax,y_ax,col_ax])\n",
    "fig"
   ]
  },
  {
   "cell_type": "code",
   "execution_count": 66,
   "id": "e4bb9796",
   "metadata": {},
   "outputs": [],
   "source": [
    "# 1. data\n",
    "hist2d, long_centers, lat_centers, long_edges, lat_edges = generate_histogram_from_lat_long(ufos)"
   ]
  },
  {
   "cell_type": "code",
   "execution_count": 68,
   "id": "5e13b54f",
   "metadata": {},
   "outputs": [
    {
     "data": {
      "text/plain": [
       "(0.0, 8.09710747658943)"
      ]
     },
     "execution_count": 68,
     "metadata": {},
     "output_type": "execute_result"
    }
   ],
   "source": [
    "np.nanmin(hist2d), np.nanmax(hist2d)"
   ]
  },
  {
   "cell_type": "code",
   "execution_count": 69,
   "id": "f14a537d",
   "metadata": {},
   "outputs": [
    {
     "data": {
      "application/vnd.jupyter.widget-view+json": {
       "model_id": "9e6859934e2f4849b8c0a8ced4052f00",
       "version_major": 2,
       "version_minor": 0
      },
      "text/plain": [
       "Figure(axes=[ColorAxis(orientation='vertical', scale=ColorScale(max=8.09710747658943, min=0.0, scheme='RdPu'),…"
      ]
     },
     "metadata": {},
     "output_type": "display_data"
    }
   ],
   "source": [
    "# 2. scales\n",
    "col_sc = bqplot.ColorScale(scheme='RdPu', min=np.nanmin(hist2d), max=np.nanmax(hist2d))\n",
    "x_sc = bqplot.LinearScale()\n",
    "y_sc = bqplot.LinearScale()\n",
    "\n",
    "# 3. axis\n",
    "col_ax = bqplot.ColorAxis(scale=col_sc, orientation='vertical', side='right')\n",
    "x_ax = bqplot.Axis(scale=x_sc, label='Longitude')\n",
    "y_ax = bqplot.Axis(scale=y_sc, label='Latitude', orientation='vertical')\n",
    "\n",
    "# 4. marks\n",
    "heat_map = bqplot.GridHeatMap(color=hist2d, \n",
    "                             row=lat_centers, column=long_centers,\n",
    "                             scales={'color':col_sc, 'row':y_sc, 'column':x_sc},\n",
    "                             interactions = {'click':'select'},\n",
    "                             selected_style={'fill':'blue'})\n",
    "\n",
    "# 5. interactivity -- skip for now!\n",
    "\n",
    "fig = bqplot.Figure(marks=[heat_map], axes=[col_ax, x_ax, y_ax])\n",
    "fig"
   ]
  },
  {
   "cell_type": "code",
   "execution_count": 73,
   "id": "f0be1bf9",
   "metadata": {},
   "outputs": [
    {
     "data": {
      "application/vnd.jupyter.widget-view+json": {
       "model_id": "4f1955267ad248a593724ba6f8e8471c",
       "version_major": 2,
       "version_minor": 0
      },
      "text/plain": [
       "VBox(children=(Label(value=''), Figure(axes=[ColorAxis(orientation='vertical', scale=ColorScale(max=8.09710747…"
      ]
     },
     "metadata": {},
     "output_type": "display_data"
    }
   ],
   "source": [
    "myLabel = ipywidgets.Label()\n",
    "def on_selected(change):\n",
    "    if len(change['owner'].selected) == 1: # only selecting one bin at a time\n",
    "        i,j = change['owner'].selected[0]\n",
    "        v = hist2d[i,j]\n",
    "        myLabel.value = 'Total duration in log10(sec)='+str(v)\n",
    "\n",
    "# 2. scales\n",
    "col_sc = bqplot.ColorScale(scheme='RdPu', min=np.nanmin(hist2d), max=np.nanmax(hist2d))\n",
    "x_sc = bqplot.LinearScale()\n",
    "y_sc = bqplot.LinearScale()\n",
    "\n",
    "# 3. axis\n",
    "col_ax = bqplot.ColorAxis(scale=col_sc, orientation='vertical', side='right')\n",
    "x_ax = bqplot.Axis(scale=x_sc, label='Longitude')\n",
    "y_ax = bqplot.Axis(scale=y_sc, label='Latitude', orientation='vertical')\n",
    "\n",
    "# 4. marks\n",
    "heat_map = bqplot.GridHeatMap(color=hist2d, \n",
    "                             row=lat_centers, column=long_centers,\n",
    "                             scales={'color':col_sc, 'row':y_sc, 'column':x_sc},\n",
    "                             interactions = {'click':'select'},\n",
    "                             selected_style={'fill':'blue'})\n",
    "\n",
    "# 5. interactivity -- skip for now!\n",
    "heat_map.observe(on_selected,'selected')\n",
    "\n",
    "fig = bqplot.Figure(marks=[heat_map], axes=[col_ax, x_ax, y_ax])\n",
    "#fig\n",
    "myDashboard = ipywidgets.VBox([myLabel,fig])\n",
    "myDashboard"
   ]
  },
  {
   "cell_type": "code",
   "execution_count": 74,
   "id": "817a6f43",
   "metadata": {},
   "outputs": [],
   "source": [
    "import datetime as dt"
   ]
  },
  {
   "cell_type": "code",
   "execution_count": 91,
   "id": "63025896",
   "metadata": {},
   "outputs": [],
   "source": [
    "# 1. data for scatter plot already there\n",
    "\n",
    "# 2. scales\n",
    "x_scl = bqplot.DateScale(min=dt.datetime(1950,1,1), max=dt.datetime(2022,1,1))\n",
    "y_scl = bqplot.LogScale()"
   ]
  },
  {
   "cell_type": "code",
   "execution_count": 92,
   "id": "5ecb63cc",
   "metadata": {},
   "outputs": [],
   "source": [
    "# 3. axis\n",
    "x_ax = bqplot.Axis(label='Date', scale=x_scl)\n",
    "y_ax = bqplot.Axis(label='Duration in Sec', scale=y_scl, orientation='vertical', side='left')"
   ]
  },
  {
   "cell_type": "code",
   "execution_count": 93,
   "id": "e897a1d0",
   "metadata": {},
   "outputs": [],
   "source": [
    "i,j=19,0"
   ]
  },
  {
   "cell_type": "code",
   "execution_count": 94,
   "id": "c799cbdc",
   "metadata": {},
   "outputs": [],
   "source": [
    "long_min = long_edges[j]\n",
    "long_max = long_edges[j+1]"
   ]
  },
  {
   "cell_type": "code",
   "execution_count": 95,
   "id": "57d3cf01",
   "metadata": {},
   "outputs": [
    {
     "data": {
      "text/plain": [
       "(-150.0, -135.0)"
      ]
     },
     "execution_count": 95,
     "metadata": {},
     "output_type": "execute_result"
    }
   ],
   "source": [
    "long_min, long_max"
   ]
  },
  {
   "cell_type": "code",
   "execution_count": 96,
   "id": "db0bb84b",
   "metadata": {},
   "outputs": [],
   "source": [
    "lat_min = lat_edges[i]\n",
    "lat_max = lat_edges[i+1]"
   ]
  },
  {
   "cell_type": "code",
   "execution_count": 97,
   "id": "e6f6d7ea",
   "metadata": {},
   "outputs": [
    {
     "data": {
      "text/plain": [
       "(64.5, 70.0)"
      ]
     },
     "execution_count": 97,
     "metadata": {},
     "output_type": "execute_result"
    }
   ],
   "source": [
    "lat_min, lat_max"
   ]
  },
  {
   "cell_type": "code",
   "execution_count": 98,
   "id": "8bc59029",
   "metadata": {},
   "outputs": [],
   "source": [
    "region_mask = ( (ufos['latitude']>=lat_min) & (ufos['latitude']<=lat_max) & \\\n",
    "              (ufos['longitude']>=long_min) & (ufos['longitude']<=long_max) )"
   ]
  },
  {
   "cell_type": "code",
   "execution_count": 99,
   "id": "02e69ad7",
   "metadata": {},
   "outputs": [
    {
     "data": {
      "text/plain": [
       "327      64.837778\n",
       "2845     64.837778\n",
       "3620     64.837778\n",
       "4602     64.751111\n",
       "6011     64.837778\n",
       "           ...    \n",
       "77347    64.751111\n",
       "77497    64.837778\n",
       "78571    64.837778\n",
       "79029    64.837778\n",
       "79470    64.837778\n",
       "Name: latitude, Length: 74, dtype: float64"
      ]
     },
     "execution_count": 99,
     "metadata": {},
     "output_type": "execute_result"
    }
   ],
   "source": [
    "ufos['latitude'][region_mask]"
   ]
  },
  {
   "cell_type": "code",
   "execution_count": 100,
   "id": "cb6cfc18",
   "metadata": {},
   "outputs": [
    {
     "data": {
      "text/plain": [
       "327     -147.716389\n",
       "2845    -147.716389\n",
       "3620    -147.716389\n",
       "4602    -147.349444\n",
       "6011    -147.716389\n",
       "            ...    \n",
       "77347   -147.349444\n",
       "77497   -147.716389\n",
       "78571   -147.716389\n",
       "79029   -147.716389\n",
       "79470   -147.716389\n",
       "Name: longitude, Length: 74, dtype: float64"
      ]
     },
     "execution_count": 100,
     "metadata": {},
     "output_type": "execute_result"
    }
   ],
   "source": [
    "ufos['longitude'][region_mask]"
   ]
  },
  {
   "cell_type": "code",
   "execution_count": 101,
   "id": "b6f56df1",
   "metadata": {},
   "outputs": [],
   "source": [
    "scatters = bqplot.Scatter(x=ufos['date'][region_mask], y=ufos['duration_seconds'][region_mask],\n",
    "                         scales={'x':x_scl, 'y':y_scl})"
   ]
  },
  {
   "cell_type": "code",
   "execution_count": 102,
   "id": "29eb58e5",
   "metadata": {},
   "outputs": [
    {
     "data": {
      "application/vnd.jupyter.widget-view+json": {
       "model_id": "904ad4851167422e8d08defa698880e3",
       "version_major": 2,
       "version_minor": 0
      },
      "text/plain": [
       "Figure(axes=[Axis(label='Date', scale=DateScale(max=datetime.datetime(2022, 1, 1, 0, 0), min=datetime.datetime…"
      ]
     },
     "metadata": {},
     "output_type": "display_data"
    }
   ],
   "source": [
    "fig_dur = bqplot.Figure(marks=[scatters], axes=[x_ax, y_ax])\n",
    "fig_dur"
   ]
  },
  {
   "cell_type": "code",
   "execution_count": 105,
   "id": "638e5aad",
   "metadata": {},
   "outputs": [
    {
     "data": {
      "application/vnd.jupyter.widget-view+json": {
       "model_id": "2e6c2c160b5d48a288b01e368f6e842b",
       "version_major": 2,
       "version_minor": 0
      },
      "text/plain": [
       "VBox(children=(Label(value=''), HBox(children=(Figure(axes=[ColorAxis(orientation='vertical', scale=ColorScale…"
      ]
     },
     "metadata": {},
     "output_type": "display_data"
    }
   ],
   "source": [
    "myLabel = ipywidgets.Label()\n",
    "def on_selected(change):\n",
    "    if len(change['owner'].selected) == 1: # only selecting one bin at a time\n",
    "        i,j = change['owner'].selected[0]\n",
    "        v = hist2d[i,j]\n",
    "        myLabel.value = 'Total duration in log10(sec)='+str(v)\n",
    "        # couple of steps to update the scatter plot\n",
    "        long_min = long_edges[j]\n",
    "        long_max = long_edges[j+1]\n",
    "        lat_min = lat_edges[i]\n",
    "        lat_max = lat_edges[i+1]\n",
    "        region_mask = ( (ufos['latitude']>=lat_min) & (ufos['latitude']<=lat_max) & \\\n",
    "              (ufos['longitude']>=long_min) & (ufos['longitude']<=long_max) )\n",
    "        scatters.x = ufos['date'][region_mask]\n",
    "        scatters.y = ufos['duration_seconds'][region_mask]\n",
    "        \n",
    "\n",
    "# 2. scales\n",
    "col_sc = bqplot.ColorScale(scheme='RdPu', min=np.nanmin(hist2d), max=np.nanmax(hist2d))\n",
    "x_sc = bqplot.LinearScale()\n",
    "y_sc = bqplot.LinearScale()\n",
    "\n",
    "# 3. axis\n",
    "col_ax = bqplot.ColorAxis(scale=col_sc, orientation='vertical', side='right')\n",
    "x_ax = bqplot.Axis(scale=x_sc, label='Longitude')\n",
    "y_ax = bqplot.Axis(scale=y_sc, label='Latitude', orientation='vertical')\n",
    "\n",
    "# 4. marks\n",
    "heat_map = bqplot.GridHeatMap(color=hist2d, \n",
    "                             row=lat_centers, column=long_centers,\n",
    "                             scales={'color':col_sc, 'row':y_sc, 'column':x_sc},\n",
    "                             interactions = {'click':'select'},\n",
    "                             selected_style={'fill':'blue'})\n",
    "\n",
    "# 5. interactivity -- skip for now!\n",
    "heat_map.observe(on_selected,'selected')\n",
    "\n",
    "fig = bqplot.Figure(marks=[heat_map], axes=[col_ax, x_ax, y_ax])\n",
    "#fig\n",
    "#myDashboard = ipywidgets.VBox([myLabel,fig])\n",
    "fig.layout.min_width='500px'\n",
    "fig_dur.layout.min_width='500px'\n",
    "figures = ipywidgets.HBox([fig,fig_dur])\n",
    "myDashboard = ipywidgets.VBox([myLabel,figures])\n",
    "myDashboard"
   ]
  },
  {
   "cell_type": "code",
   "execution_count": 106,
   "id": "d2103525",
   "metadata": {},
   "outputs": [],
   "source": [
    "# 1. data for barplot\n",
    "i,j=19,0"
   ]
  },
  {
   "cell_type": "code",
   "execution_count": 107,
   "id": "2c772cee",
   "metadata": {},
   "outputs": [
    {
     "data": {
      "text/plain": [
       "Index(['date', 'city', 'state', 'country', 'shape', 'duration_seconds',\n",
       "       'duration', 'comment', 'report_date', 'latitude', 'longitude'],\n",
       "      dtype='object')"
      ]
     },
     "execution_count": 107,
     "metadata": {},
     "output_type": "execute_result"
    }
   ],
   "source": [
    "ufos.columns"
   ]
  },
  {
   "cell_type": "code",
   "execution_count": 108,
   "id": "3653190a",
   "metadata": {},
   "outputs": [],
   "source": [
    "ufos['year'] = ufos['date'].dt.year"
   ]
  },
  {
   "cell_type": "code",
   "execution_count": 109,
   "id": "ecd46c42",
   "metadata": {},
   "outputs": [
    {
     "data": {
      "text/plain": [
       "0        1949\n",
       "1        1949\n",
       "2        1955\n",
       "3        1956\n",
       "4        1960\n",
       "         ... \n",
       "80327    2013\n",
       "80328    2013\n",
       "80329    2013\n",
       "80330    2013\n",
       "80331    2013\n",
       "Name: year, Length: 80332, dtype: int64"
      ]
     },
     "execution_count": 109,
     "metadata": {},
     "output_type": "execute_result"
    }
   ],
   "source": [
    "ufos['year']"
   ]
  },
  {
   "cell_type": "code",
   "execution_count": 110,
   "id": "40b7190d",
   "metadata": {},
   "outputs": [],
   "source": [
    "# couple of steps to update the scatter plot\n",
    "long_min = long_edges[j]\n",
    "long_max = long_edges[j+1]\n",
    "lat_min = lat_edges[i]\n",
    "lat_max = lat_edges[i+1]\n",
    "region_mask = ( (ufos['latitude']>=lat_min) & (ufos['latitude']<=lat_max) & \\\n",
    "      (ufos['longitude']>=long_min) & (ufos['longitude']<=long_max) )"
   ]
  },
  {
   "cell_type": "code",
   "execution_count": null,
   "id": "021694ca",
   "metadata": {},
   "outputs": [],
   "source": [
    "dur, dur_edgets"
   ]
  }
 ],
 "metadata": {
  "kernelspec": {
   "display_name": "Python 3 (ipykernel)",
   "language": "python",
   "name": "python3"
  },
  "language_info": {
   "codemirror_mode": {
    "name": "ipython",
    "version": 3
   },
   "file_extension": ".py",
   "mimetype": "text/x-python",
   "name": "python",
   "nbconvert_exporter": "python",
   "pygments_lexer": "ipython3",
   "version": "3.7.12"
  }
 },
 "nbformat": 4,
 "nbformat_minor": 5
}
