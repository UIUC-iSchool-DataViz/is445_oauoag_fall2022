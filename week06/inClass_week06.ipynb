{
 "cells": [
  {
   "cell_type": "markdown",
   "id": "respective-store",
   "metadata": {},
   "source": [
    "# In Class Notebook, Week 06"
   ]
  },
  {
   "cell_type": "markdown",
   "id": "2a597611",
   "metadata": {},
   "source": [
    "You can always access the URL of this notebook: https://github.com/UIUC-iSchool-DataViz/is445_oauoag_fall2022/blob/master/week06/inClass_week06.ipynb \n",
    "\n",
    "Or post the URL into the nbviewer interface for a plain-text rendering:\n",
    "\n",
    "https://kokes.github.io/nbviewer.js/viewer.html"
   ]
  },
  {
   "cell_type": "code",
   "execution_count": 1,
   "id": "e9692408",
   "metadata": {},
   "outputs": [],
   "source": [
    "# import usual things\n",
    "import pandas as pd\n",
    "import bqplot\n",
    "import numpy as np\n",
    "import ipywidgets\n",
    "import matplotlib.pyplot as plt"
   ]
  },
  {
   "cell_type": "markdown",
   "id": "1cd5ec02",
   "metadata": {},
   "source": [
    "## Bit of a review from last class"
   ]
  },
  {
   "cell_type": "code",
   "execution_count": 2,
   "id": "2a328b0d",
   "metadata": {},
   "outputs": [],
   "source": [
    "# 1. data\n",
    "data = np.random.random((10,10))"
   ]
  },
  {
   "cell_type": "code",
   "execution_count": 4,
   "id": "861f63cd",
   "metadata": {},
   "outputs": [
    {
     "data": {
      "text/plain": [
       "(10, 10)"
      ]
     },
     "execution_count": 4,
     "metadata": {},
     "output_type": "execute_result"
    }
   ],
   "source": [
    "data.shape"
   ]
  },
  {
   "cell_type": "code",
   "execution_count": 5,
   "id": "ded095e6",
   "metadata": {},
   "outputs": [],
   "source": [
    "bqplot.ColorScale?"
   ]
  },
  {
   "cell_type": "code",
   "execution_count": 6,
   "id": "46cd73a8",
   "metadata": {},
   "outputs": [],
   "source": [
    "# 2. Scales\n",
    "col_sc = bqplot.ColorScale()"
   ]
  },
  {
   "cell_type": "code",
   "execution_count": 7,
   "id": "2b8af721",
   "metadata": {},
   "outputs": [],
   "source": [
    "# 3. Axis -- skip this for right now"
   ]
  },
  {
   "cell_type": "code",
   "execution_count": 8,
   "id": "aeb79f71",
   "metadata": {},
   "outputs": [],
   "source": [
    "bqplot.GridHeatMap?"
   ]
  },
  {
   "cell_type": "code",
   "execution_count": 9,
   "id": "43e11ca5",
   "metadata": {},
   "outputs": [],
   "source": [
    "# 4. Mark -- grid heatmap\n",
    "heat_map = bqplot.GridHeatMap(color=data, scales={'color':col_sc})"
   ]
  },
  {
   "cell_type": "code",
   "execution_count": 10,
   "id": "fb68d2bf",
   "metadata": {},
   "outputs": [],
   "source": [
    "# 5. interactions -- skip for now as well"
   ]
  },
  {
   "cell_type": "code",
   "execution_count": 11,
   "id": "6d74d8b7",
   "metadata": {},
   "outputs": [
    {
     "data": {
      "application/vnd.jupyter.widget-view+json": {
       "model_id": "1ce5298338cb4e0cb0713fc99de95f86",
       "version_major": 2,
       "version_minor": 0
      },
      "text/plain": [
       "Figure(fig_margin={'top': 60, 'bottom': 60, 'left': 60, 'right': 60}, marks=[GridHeatMap(color=array([[0.18102…"
      ]
     },
     "metadata": {},
     "output_type": "display_data"
    }
   ],
   "source": [
    "# put it all together as a figure\n",
    "fig = bqplot.Figure(marks=[heat_map])\n",
    "fig"
   ]
  },
  {
   "cell_type": "code",
   "execution_count": 12,
   "id": "97c693f2",
   "metadata": {},
   "outputs": [
    {
     "data": {
      "application/vnd.jupyter.widget-view+json": {
       "model_id": "7d80d2ef1f4147b88902b690d39302ab",
       "version_major": 2,
       "version_minor": 0
      },
      "text/plain": [
       "Figure(fig_margin={'top': 60, 'bottom': 60, 'left': 60, 'right': 60}, marks=[GridHeatMap(color=array([[0.18102…"
      ]
     },
     "metadata": {},
     "output_type": "display_data"
    }
   ],
   "source": [
    "# 2. Scales\n",
    "col_sc = bqplot.ColorScale(scheme='Greens')\n",
    "\n",
    "# 3. Axis -- skip this for right now\n",
    "\n",
    "# 4. Mark -- grid heatmap\n",
    "heat_map = bqplot.GridHeatMap(color=data, scales={'color':col_sc})\n",
    "\n",
    "# 5. interactions -- skip for now as well\n",
    "\n",
    "# put it all together as a figure\n",
    "fig = bqplot.Figure(marks=[heat_map])\n",
    "fig"
   ]
  },
  {
   "cell_type": "code",
   "execution_count": 13,
   "id": "5812cd5a",
   "metadata": {},
   "outputs": [],
   "source": [
    "bqplot.ColorAxis?"
   ]
  },
  {
   "cell_type": "code",
   "execution_count": 14,
   "id": "7ca703ba",
   "metadata": {},
   "outputs": [
    {
     "data": {
      "application/vnd.jupyter.widget-view+json": {
       "model_id": "263cb10679f941618fccf471dca196c5",
       "version_major": 2,
       "version_minor": 0
      },
      "text/plain": [
       "Figure(axes=[ColorAxis(orientation='vertical', scale=ColorScale(scheme='Greens'), side='right')], fig_margin={…"
      ]
     },
     "metadata": {},
     "output_type": "display_data"
    }
   ],
   "source": [
    "# 2. Scales\n",
    "col_sc = bqplot.ColorScale(scheme='Greens')\n",
    "\n",
    "# 3. Axis -- skip this for right now\n",
    "col_ax = bqplot.ColorAxis(scale=col_sc, \n",
    "                         orientation='vertical',\n",
    "                         side='right')\n",
    "\n",
    "# 4. Mark -- grid heatmap\n",
    "heat_map = bqplot.GridHeatMap(color=data, scales={'color':col_sc})\n",
    "\n",
    "# 5. interactions -- skip for now as well\n",
    "\n",
    "# put it all together as a figure\n",
    "fig = bqplot.Figure(marks=[heat_map], axes=[col_ax])\n",
    "fig"
   ]
  },
  {
   "cell_type": "code",
   "execution_count": 16,
   "id": "9c0ce3f4",
   "metadata": {},
   "outputs": [
    {
     "data": {
      "application/vnd.jupyter.widget-view+json": {
       "model_id": "d1cba2043c09437c8fe262efb3ae13c7",
       "version_major": 2,
       "version_minor": 0
      },
      "text/plain": [
       "Figure(axes=[ColorAxis(orientation='vertical', scale=ColorScale(scheme='Greens'), side='right'), Axis(scale=Or…"
      ]
     },
     "metadata": {},
     "output_type": "display_data"
    }
   ],
   "source": [
    "# 2. Scales\n",
    "col_sc = bqplot.ColorScale(scheme='Greens')\n",
    "x_sc = bqplot.OrdinalScale()\n",
    "y_sc = bqplot.OrdinalScale()\n",
    "\n",
    "# 3. Axis -- skip this for right now\n",
    "col_ax = bqplot.ColorAxis(scale=col_sc, \n",
    "                         orientation='vertical',\n",
    "                         side='right')\n",
    "x_ax = bqplot.Axis(scale=x_sc)\n",
    "y_ax = bqplot.Axis(scale=y_sc, orientation='vertical')\n",
    "\n",
    "# 4. Mark -- grid heatmap\n",
    "heat_map = bqplot.GridHeatMap(color=data, \n",
    "                              scales={'color':col_sc, 'row':y_sc, 'column':x_sc})\n",
    "\n",
    "# 5. interactions -- skip for now as well\n",
    "\n",
    "# put it all together as a figure\n",
    "fig = bqplot.Figure(marks=[heat_map], axes=[col_ax, x_ax,y_ax])\n",
    "fig"
   ]
  },
  {
   "cell_type": "code",
   "execution_count": 17,
   "id": "321536d9",
   "metadata": {},
   "outputs": [
    {
     "data": {
      "application/vnd.jupyter.widget-view+json": {
       "model_id": "1b7b882266dd41f680603a327de56727",
       "version_major": 2,
       "version_minor": 0
      },
      "text/plain": [
       "Figure(axes=[ColorAxis(orientation='vertical', scale=ColorScale(scheme='Greens'), side='right'), Axis(scale=Or…"
      ]
     },
     "metadata": {},
     "output_type": "display_data"
    },
    {
     "name": "stdout",
     "output_type": "stream",
     "text": [
      "{'name': 'selected', 'old': array([[0, 1]]), 'new': array([[5, 4]]), 'owner': GridHeatMap(color=array([[0.18102868, 0.05454827, 0.14790733, 0.24162776, 0.11821291,\n",
      "        0.98108491, 0.67358506, 0.84167553, 0.38159203, 0.24736005],\n",
      "       [0.87248269, 0.7496281 , 0.12147046, 0.49768312, 0.8150258 ,\n",
      "        0.84724483, 0.97449228, 0.66123065, 0.98790992, 0.7264286 ],\n",
      "       [0.62746968, 0.08201504, 0.3693932 , 0.69243688, 0.78808482,\n",
      "        0.34686901, 0.09467904, 0.07534954, 0.1984768 , 0.15453815],\n",
      "       [0.41372284, 0.76606028, 0.10728713, 0.76982562, 0.29883832,\n",
      "        0.44449593, 0.22529206, 0.30030013, 0.1757342 , 0.06823544],\n",
      "       [0.51601169, 0.21122179, 0.49987912, 0.25488668, 0.31463904,\n",
      "        0.29469691, 0.7317339 , 0.94535344, 0.68825464, 0.67533604],\n",
      "       [0.37748986, 0.10920031, 0.51901313, 0.82776109, 0.7392613 ,\n",
      "        0.79730977, 0.54152581, 0.12177239, 0.73828878, 0.97627915],\n",
      "       [0.56743095, 0.0384332 , 0.80993883, 0.82310542, 0.47688216,\n",
      "        0.14258527, 0.34115939, 0.06894182, 0.54985322, 0.47602536],\n",
      "       [0.71349217, 0.22290181, 0.93272549, 0.43574285, 0.81076447,\n",
      "        0.88222005, 0.55849903, 0.59861541, 0.29459664, 0.60593705],\n",
      "       [0.29584878, 0.06876203, 0.24344405, 0.47230464, 0.7601042 ,\n",
      "        0.71031593, 0.68061664, 0.22487748, 0.58324421, 0.92440572],\n",
      "       [0.57019588, 0.98235686, 0.75082184, 0.40866874, 0.19701337,\n",
      "        0.16211734, 0.90686969, 0.15765909, 0.37862091, 0.24704077]]), interactions={'click': 'select'}, scales={'color': ColorScale(scheme='Greens'), 'row': OrdinalScale(), 'column': OrdinalScale()}, scales_metadata={'row': {'orientation': 'vertical', 'dimension': 'y'}, 'column': {'orientation': 'horizontal', 'dimension': 'x'}, 'color': {'dimension': 'color'}}, selected=array([[5, 4]]), selected_style={'fill': 'magenta'}, tooltip_style={'opacity': 0.9}), 'type': 'change'}\n",
      "{'name': 'selected', 'old': array([[5, 4]]), 'new': array([[4, 7]]), 'owner': GridHeatMap(color=array([[0.18102868, 0.05454827, 0.14790733, 0.24162776, 0.11821291,\n",
      "        0.98108491, 0.67358506, 0.84167553, 0.38159203, 0.24736005],\n",
      "       [0.87248269, 0.7496281 , 0.12147046, 0.49768312, 0.8150258 ,\n",
      "        0.84724483, 0.97449228, 0.66123065, 0.98790992, 0.7264286 ],\n",
      "       [0.62746968, 0.08201504, 0.3693932 , 0.69243688, 0.78808482,\n",
      "        0.34686901, 0.09467904, 0.07534954, 0.1984768 , 0.15453815],\n",
      "       [0.41372284, 0.76606028, 0.10728713, 0.76982562, 0.29883832,\n",
      "        0.44449593, 0.22529206, 0.30030013, 0.1757342 , 0.06823544],\n",
      "       [0.51601169, 0.21122179, 0.49987912, 0.25488668, 0.31463904,\n",
      "        0.29469691, 0.7317339 , 0.94535344, 0.68825464, 0.67533604],\n",
      "       [0.37748986, 0.10920031, 0.51901313, 0.82776109, 0.7392613 ,\n",
      "        0.79730977, 0.54152581, 0.12177239, 0.73828878, 0.97627915],\n",
      "       [0.56743095, 0.0384332 , 0.80993883, 0.82310542, 0.47688216,\n",
      "        0.14258527, 0.34115939, 0.06894182, 0.54985322, 0.47602536],\n",
      "       [0.71349217, 0.22290181, 0.93272549, 0.43574285, 0.81076447,\n",
      "        0.88222005, 0.55849903, 0.59861541, 0.29459664, 0.60593705],\n",
      "       [0.29584878, 0.06876203, 0.24344405, 0.47230464, 0.7601042 ,\n",
      "        0.71031593, 0.68061664, 0.22487748, 0.58324421, 0.92440572],\n",
      "       [0.57019588, 0.98235686, 0.75082184, 0.40866874, 0.19701337,\n",
      "        0.16211734, 0.90686969, 0.15765909, 0.37862091, 0.24704077]]), interactions={'click': 'select'}, scales={'color': ColorScale(scheme='Greens'), 'row': OrdinalScale(), 'column': OrdinalScale()}, scales_metadata={'row': {'orientation': 'vertical', 'dimension': 'y'}, 'column': {'orientation': 'horizontal', 'dimension': 'x'}, 'color': {'dimension': 'color'}}, selected=array([[4, 7]]), selected_style={'fill': 'magenta'}, tooltip_style={'opacity': 0.9}), 'type': 'change'}\n"
     ]
    }
   ],
   "source": [
    "# 2. Scales\n",
    "col_sc = bqplot.ColorScale(scheme='Greens')\n",
    "x_sc = bqplot.OrdinalScale()\n",
    "y_sc = bqplot.OrdinalScale()\n",
    "\n",
    "# 3. Axis -- skip this for right now\n",
    "col_ax = bqplot.ColorAxis(scale=col_sc, \n",
    "                         orientation='vertical',\n",
    "                         side='right')\n",
    "x_ax = bqplot.Axis(scale=x_sc)\n",
    "y_ax = bqplot.Axis(scale=y_sc, orientation='vertical')\n",
    "\n",
    "# 4. Mark -- grid heatmap\n",
    "heat_map = bqplot.GridHeatMap(color=data, \n",
    "                              scales={'color':col_sc, 'row':y_sc, 'column':x_sc},\n",
    "                             interactions={'click':'select'},\n",
    "                             selected_style={'fill':'magenta'})\n",
    "\n",
    "# 5. interactions -- skip for now as well\n",
    "\n",
    "# put it all together as a figure\n",
    "fig = bqplot.Figure(marks=[heat_map], axes=[col_ax, x_ax,y_ax])\n",
    "fig"
   ]
  },
  {
   "cell_type": "code",
   "execution_count": 18,
   "id": "19051d2c",
   "metadata": {},
   "outputs": [
    {
     "data": {
      "text/plain": [
       "['_model_module',\n",
       " '_model_module_version',\n",
       " '_model_name',\n",
       " '_view_count',\n",
       " '_view_module',\n",
       " '_view_module_version',\n",
       " '_view_name',\n",
       " 'anchor_style',\n",
       " 'apply_clip',\n",
       " 'color',\n",
       " 'column',\n",
       " 'column_align',\n",
       " 'display_format',\n",
       " 'display_legend',\n",
       " 'enable_hover',\n",
       " 'font_style',\n",
       " 'interactions',\n",
       " 'labels',\n",
       " 'null_color',\n",
       " 'opacity',\n",
       " 'preserve_domain',\n",
       " 'row',\n",
       " 'row_align',\n",
       " 'scales',\n",
       " 'scales_metadata',\n",
       " 'selected',\n",
       " 'selected_style',\n",
       " 'stroke',\n",
       " 'tooltip',\n",
       " 'tooltip_location',\n",
       " 'tooltip_style',\n",
       " 'unselected_style',\n",
       " 'visible']"
      ]
     },
     "execution_count": 18,
     "metadata": {},
     "output_type": "execute_result"
    }
   ],
   "source": [
    "heat_map.keys"
   ]
  },
  {
   "cell_type": "code",
   "execution_count": 20,
   "id": "7ee24593",
   "metadata": {},
   "outputs": [
    {
     "data": {
      "text/plain": [
       "array([[0, 1]])"
      ]
     },
     "execution_count": 20,
     "metadata": {},
     "output_type": "execute_result"
    }
   ],
   "source": [
    "heat_map.selected"
   ]
  },
  {
   "cell_type": "code",
   "execution_count": 21,
   "id": "03cb1378",
   "metadata": {},
   "outputs": [],
   "source": [
    "def on_selected(change):\n",
    "    print(change)"
   ]
  },
  {
   "cell_type": "code",
   "execution_count": 22,
   "id": "94b30496",
   "metadata": {},
   "outputs": [],
   "source": [
    "heat_map.observe(on_selected,'selected')"
   ]
  },
  {
   "cell_type": "code",
   "execution_count": 23,
   "id": "8592032c",
   "metadata": {},
   "outputs": [
    {
     "data": {
      "application/vnd.jupyter.widget-view+json": {
       "model_id": "bcf1f75e163444d48cf47fc58efbcef0",
       "version_major": 2,
       "version_minor": 0
      },
      "text/plain": [
       "Figure(axes=[ColorAxis(orientation='vertical', scale=ColorScale(scheme='Greens'), side='right'), Axis(scale=Or…"
      ]
     },
     "metadata": {},
     "output_type": "display_data"
    },
    {
     "name": "stdout",
     "output_type": "stream",
     "text": [
      "[[2 4]]\n",
      "[[2 3]]\n",
      "[[0 3]]\n",
      "[[3 2]]\n",
      "[[3 3]\n",
      " [3 2]]\n",
      "[[2 3]\n",
      " [2 2]\n",
      " [3 2]\n",
      " [3 3]]\n",
      "[[1 2]\n",
      " [2 2]\n",
      " [3 2]]\n",
      "[[0 5]]\n"
     ]
    }
   ],
   "source": [
    "def on_selected(change):\n",
    "    print(change['owner'].selected)\n",
    "\n",
    "# 2. Scales\n",
    "col_sc = bqplot.ColorScale(scheme='Greens')\n",
    "x_sc = bqplot.OrdinalScale()\n",
    "y_sc = bqplot.OrdinalScale()\n",
    "\n",
    "# 3. Axis -- skip this for right now\n",
    "col_ax = bqplot.ColorAxis(scale=col_sc, \n",
    "                         orientation='vertical',\n",
    "                         side='right')\n",
    "x_ax = bqplot.Axis(scale=x_sc)\n",
    "y_ax = bqplot.Axis(scale=y_sc, orientation='vertical')\n",
    "\n",
    "# 4. Mark -- grid heatmap\n",
    "heat_map = bqplot.GridHeatMap(color=data, \n",
    "                              scales={'color':col_sc, 'row':y_sc, 'column':x_sc},\n",
    "                             interactions={'click':'select'},\n",
    "                             selected_style={'fill':'magenta'})\n",
    "\n",
    "# 5. interactions -- skip for now as well\n",
    "heat_map.observe(on_selected,'selected')\n",
    "\n",
    "# put it all together as a figure\n",
    "fig = bqplot.Figure(marks=[heat_map], axes=[col_ax, x_ax,y_ax])\n",
    "fig"
   ]
  },
  {
   "cell_type": "code",
   "execution_count": null,
   "id": "a9c0320f",
   "metadata": {},
   "outputs": [],
   "source": [
    "def on_selected(change):\n",
    "    if len(change['owner'].selected)==1: # only do things if I select a single cell\n",
    "        print(change['owner'].selected)\n",
    "\n",
    "# 2. Scales\n",
    "col_sc = bqplot.ColorScale(scheme='Greens')\n",
    "x_sc = bqplot.OrdinalScale()\n",
    "y_sc = bqplot.OrdinalScale()\n",
    "\n",
    "# 3. Axis -- skip this for right now\n",
    "col_ax = bqplot.ColorAxis(scale=col_sc, \n",
    "                         orientation='vertical',\n",
    "                         side='right')\n",
    "x_ax = bqplot.Axis(scale=x_sc)\n",
    "y_ax = bqplot.Axis(scale=y_sc, orientation='vertical')\n",
    "\n",
    "# 4. Mark -- grid heatmap\n",
    "heat_map = bqplot.GridHeatMap(color=data, \n",
    "                              scales={'color':col_sc, 'row':y_sc, 'column':x_sc},\n",
    "                             interactions={'click':'select'},\n",
    "                             selected_style={'fill':'magenta'})\n",
    "\n",
    "# 5. interactions -- skip for now as well\n",
    "heat_map.observe(on_selected,'selected')\n",
    "\n",
    "# put it all together as a figure\n",
    "fig = bqplot.Figure(marks=[heat_map], axes=[col_ax, x_ax,y_ax])\n",
    "fig"
   ]
  }
 ],
 "metadata": {
  "kernelspec": {
   "display_name": "Python 3 (ipykernel)",
   "language": "python",
   "name": "python3"
  },
  "language_info": {
   "codemirror_mode": {
    "name": "ipython",
    "version": 3
   },
   "file_extension": ".py",
   "mimetype": "text/x-python",
   "name": "python",
   "nbconvert_exporter": "python",
   "pygments_lexer": "ipython3",
   "version": "3.7.12"
  }
 },
 "nbformat": 4,
 "nbformat_minor": 5
}
