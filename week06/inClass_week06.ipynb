{
 "cells": [
  {
   "cell_type": "markdown",
   "id": "respective-store",
   "metadata": {},
   "source": [
    "# In Class Notebook, Week 06"
   ]
  },
  {
   "cell_type": "markdown",
   "id": "2a597611",
   "metadata": {},
   "source": [
    "You can always access the URL of this notebook: https://github.com/UIUC-iSchool-DataViz/is445_oauoag_fall2022/blob/master/week06/inClass_week06.ipynb \n",
    "\n",
    "Or post the URL into the nbviewer interface for a plain-text rendering:\n",
    "\n",
    "https://kokes.github.io/nbviewer.js/viewer.html"
   ]
  },
  {
   "cell_type": "code",
   "execution_count": 1,
   "id": "a9a5c8de",
   "metadata": {},
   "outputs": [],
   "source": [
    "# import usual things\n",
    "import pandas as pd\n",
    "import bqplot\n",
    "import numpy as np\n",
    "import ipywidgets\n",
    "import matplotlib.pyplot as plt"
   ]
  },
  {
   "cell_type": "markdown",
   "id": "b56e9653",
   "metadata": {},
   "source": [
    "## Bit of a review from last class"
   ]
  },
  {
   "cell_type": "code",
   "execution_count": 2,
   "id": "ff7c4674",
   "metadata": {},
   "outputs": [],
   "source": [
    "# 1. data\n",
    "data = np.random.random((10,10))"
   ]
  },
  {
   "cell_type": "code",
   "execution_count": 4,
   "id": "0c2d1b31",
   "metadata": {},
   "outputs": [
    {
     "data": {
      "text/plain": [
       "(10, 10)"
      ]
     },
     "execution_count": 4,
     "metadata": {},
     "output_type": "execute_result"
    }
   ],
   "source": [
    "data.shape"
   ]
  },
  {
   "cell_type": "code",
   "execution_count": 5,
   "id": "fdd8bab9",
   "metadata": {},
   "outputs": [],
   "source": [
    "bqplot.ColorScale?"
   ]
  },
  {
   "cell_type": "code",
   "execution_count": 6,
   "id": "3b213a35",
   "metadata": {},
   "outputs": [],
   "source": [
    "# 2. Scales\n",
    "col_sc = bqplot.ColorScale()"
   ]
  },
  {
   "cell_type": "code",
   "execution_count": 7,
   "id": "1161a74a",
   "metadata": {},
   "outputs": [],
   "source": [
    "# 3. Axis -- skip this for right now"
   ]
  },
  {
   "cell_type": "code",
   "execution_count": 8,
   "id": "8627a751",
   "metadata": {},
   "outputs": [],
   "source": [
    "bqplot.GridHeatMap?"
   ]
  },
  {
   "cell_type": "code",
   "execution_count": 9,
   "id": "d72dea08",
   "metadata": {},
   "outputs": [],
   "source": [
    "# 4. Mark -- grid heatmap\n",
    "heat_map = bqplot.GridHeatMap(color=data, scales={'color':col_sc})"
   ]
  },
  {
   "cell_type": "code",
   "execution_count": 10,
   "id": "94ebccf3",
   "metadata": {},
   "outputs": [],
   "source": [
    "# 5. interactions -- skip for now as well"
   ]
  },
  {
   "cell_type": "code",
   "execution_count": 11,
   "id": "51a778bd",
   "metadata": {},
   "outputs": [
    {
     "data": {
      "application/vnd.jupyter.widget-view+json": {
       "model_id": "1ce5298338cb4e0cb0713fc99de95f86",
       "version_major": 2,
       "version_minor": 0
      },
      "text/plain": [
       "Figure(fig_margin={'top': 60, 'bottom': 60, 'left': 60, 'right': 60}, marks=[GridHeatMap(color=array([[0.18102…"
      ]
     },
     "metadata": {},
     "output_type": "display_data"
    }
   ],
   "source": [
    "# put it all together as a figure\n",
    "fig = bqplot.Figure(marks=[heat_map])\n",
    "fig"
   ]
  },
  {
   "cell_type": "code",
   "execution_count": 12,
   "id": "efed0e1d",
   "metadata": {},
   "outputs": [
    {
     "data": {
      "application/vnd.jupyter.widget-view+json": {
       "model_id": "7d80d2ef1f4147b88902b690d39302ab",
       "version_major": 2,
       "version_minor": 0
      },
      "text/plain": [
       "Figure(fig_margin={'top': 60, 'bottom': 60, 'left': 60, 'right': 60}, marks=[GridHeatMap(color=array([[0.18102…"
      ]
     },
     "metadata": {},
     "output_type": "display_data"
    }
   ],
   "source": [
    "# 2. Scales\n",
    "col_sc = bqplot.ColorScale(scheme='Greens')\n",
    "\n",
    "# 3. Axis -- skip this for right now\n",
    "\n",
    "# 4. Mark -- grid heatmap\n",
    "heat_map = bqplot.GridHeatMap(color=data, scales={'color':col_sc})\n",
    "\n",
    "# 5. interactions -- skip for now as well\n",
    "\n",
    "# put it all together as a figure\n",
    "fig = bqplot.Figure(marks=[heat_map])\n",
    "fig"
   ]
  },
  {
   "cell_type": "code",
   "execution_count": 13,
   "id": "61733f51",
   "metadata": {},
   "outputs": [],
   "source": [
    "bqplot.ColorAxis?"
   ]
  },
  {
   "cell_type": "code",
   "execution_count": 14,
   "id": "697f6e6f",
   "metadata": {},
   "outputs": [
    {
     "data": {
      "application/vnd.jupyter.widget-view+json": {
       "model_id": "263cb10679f941618fccf471dca196c5",
       "version_major": 2,
       "version_minor": 0
      },
      "text/plain": [
       "Figure(axes=[ColorAxis(orientation='vertical', scale=ColorScale(scheme='Greens'), side='right')], fig_margin={…"
      ]
     },
     "metadata": {},
     "output_type": "display_data"
    }
   ],
   "source": [
    "# 2. Scales\n",
    "col_sc = bqplot.ColorScale(scheme='Greens')\n",
    "\n",
    "# 3. Axis -- skip this for right now\n",
    "col_ax = bqplot.ColorAxis(scale=col_sc, \n",
    "                         orientation='vertical',\n",
    "                         side='right')\n",
    "\n",
    "# 4. Mark -- grid heatmap\n",
    "heat_map = bqplot.GridHeatMap(color=data, scales={'color':col_sc})\n",
    "\n",
    "# 5. interactions -- skip for now as well\n",
    "\n",
    "# put it all together as a figure\n",
    "fig = bqplot.Figure(marks=[heat_map], axes=[col_ax])\n",
    "fig"
   ]
  },
  {
   "cell_type": "code",
   "execution_count": 16,
   "id": "1e867747",
   "metadata": {},
   "outputs": [
    {
     "data": {
      "application/vnd.jupyter.widget-view+json": {
       "model_id": "d1cba2043c09437c8fe262efb3ae13c7",
       "version_major": 2,
       "version_minor": 0
      },
      "text/plain": [
       "Figure(axes=[ColorAxis(orientation='vertical', scale=ColorScale(scheme='Greens'), side='right'), Axis(scale=Or…"
      ]
     },
     "metadata": {},
     "output_type": "display_data"
    }
   ],
   "source": [
    "# 2. Scales\n",
    "col_sc = bqplot.ColorScale(scheme='Greens')\n",
    "x_sc = bqplot.OrdinalScale()\n",
    "y_sc = bqplot.OrdinalScale()\n",
    "\n",
    "# 3. Axis -- skip this for right now\n",
    "col_ax = bqplot.ColorAxis(scale=col_sc, \n",
    "                         orientation='vertical',\n",
    "                         side='right')\n",
    "x_ax = bqplot.Axis(scale=x_sc)\n",
    "y_ax = bqplot.Axis(scale=y_sc, orientation='vertical')\n",
    "\n",
    "# 4. Mark -- grid heatmap\n",
    "heat_map = bqplot.GridHeatMap(color=data, \n",
    "                              scales={'color':col_sc, 'row':y_sc, 'column':x_sc})\n",
    "\n",
    "# 5. interactions -- skip for now as well\n",
    "\n",
    "# put it all together as a figure\n",
    "fig = bqplot.Figure(marks=[heat_map], axes=[col_ax, x_ax,y_ax])\n",
    "fig"
   ]
  },
  {
   "cell_type": "code",
   "execution_count": 17,
   "id": "a1e78d2d",
   "metadata": {},
   "outputs": [
    {
     "data": {
      "application/vnd.jupyter.widget-view+json": {
       "model_id": "1b7b882266dd41f680603a327de56727",
       "version_major": 2,
       "version_minor": 0
      },
      "text/plain": [
       "Figure(axes=[ColorAxis(orientation='vertical', scale=ColorScale(scheme='Greens'), side='right'), Axis(scale=Or…"
      ]
     },
     "metadata": {},
     "output_type": "display_data"
    }
   ],
   "source": [
    "# 2. Scales\n",
    "col_sc = bqplot.ColorScale(scheme='Greens')\n",
    "x_sc = bqplot.OrdinalScale()\n",
    "y_sc = bqplot.OrdinalScale()\n",
    "\n",
    "# 3. Axis -- skip this for right now\n",
    "col_ax = bqplot.ColorAxis(scale=col_sc, \n",
    "                         orientation='vertical',\n",
    "                         side='right')\n",
    "x_ax = bqplot.Axis(scale=x_sc)\n",
    "y_ax = bqplot.Axis(scale=y_sc, orientation='vertical')\n",
    "\n",
    "# 4. Mark -- grid heatmap\n",
    "heat_map = bqplot.GridHeatMap(color=data, \n",
    "                              scales={'color':col_sc, 'row':y_sc, 'column':x_sc},\n",
    "                             interactions={'click':'select'},\n",
    "                             selected_style={'fill':'magenta'})\n",
    "\n",
    "# 5. interactions -- skip for now as well\n",
    "\n",
    "# put it all together as a figure\n",
    "fig = bqplot.Figure(marks=[heat_map], axes=[col_ax, x_ax,y_ax])\n",
    "fig"
   ]
  },
  {
   "cell_type": "code",
   "execution_count": 18,
   "id": "f2e99ff9",
   "metadata": {},
   "outputs": [
    {
     "data": {
      "text/plain": [
       "['_model_module',\n",
       " '_model_module_version',\n",
       " '_model_name',\n",
       " '_view_count',\n",
       " '_view_module',\n",
       " '_view_module_version',\n",
       " '_view_name',\n",
       " 'anchor_style',\n",
       " 'apply_clip',\n",
       " 'color',\n",
       " 'column',\n",
       " 'column_align',\n",
       " 'display_format',\n",
       " 'display_legend',\n",
       " 'enable_hover',\n",
       " 'font_style',\n",
       " 'interactions',\n",
       " 'labels',\n",
       " 'null_color',\n",
       " 'opacity',\n",
       " 'preserve_domain',\n",
       " 'row',\n",
       " 'row_align',\n",
       " 'scales',\n",
       " 'scales_metadata',\n",
       " 'selected',\n",
       " 'selected_style',\n",
       " 'stroke',\n",
       " 'tooltip',\n",
       " 'tooltip_location',\n",
       " 'tooltip_style',\n",
       " 'unselected_style',\n",
       " 'visible']"
      ]
     },
     "execution_count": 18,
     "metadata": {},
     "output_type": "execute_result"
    }
   ],
   "source": [
    "heat_map.keys"
   ]
  },
  {
   "cell_type": "code",
   "execution_count": null,
   "id": "93ce9cf9",
   "metadata": {},
   "outputs": [],
   "source": []
  }
 ],
 "metadata": {
  "kernelspec": {
   "display_name": "Python 3 (ipykernel)",
   "language": "python",
   "name": "python3"
  },
  "language_info": {
   "codemirror_mode": {
    "name": "ipython",
    "version": 3
   },
   "file_extension": ".py",
   "mimetype": "text/x-python",
   "name": "python",
   "nbconvert_exporter": "python",
   "pygments_lexer": "ipython3",
   "version": "3.7.12"
  }
 },
 "nbformat": 4,
 "nbformat_minor": 5
}
