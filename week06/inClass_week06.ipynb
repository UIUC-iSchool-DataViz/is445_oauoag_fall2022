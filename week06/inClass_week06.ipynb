{
 "cells": [
  {
   "cell_type": "markdown",
   "id": "respective-store",
   "metadata": {},
   "source": [
    "# In Class Notebook, Week 06"
   ]
  },
  {
   "cell_type": "markdown",
   "id": "2a597611",
   "metadata": {},
   "source": [
    "You can always access the URL of this notebook: https://github.com/UIUC-iSchool-DataViz/is445_oauoag_fall2022/blob/master/week06/inClass_week06.ipynb \n",
    "\n",
    "Or post the URL into the nbviewer interface for a plain-text rendering:\n",
    "\n",
    "https://kokes.github.io/nbviewer.js/viewer.html"
   ]
  },
  {
   "cell_type": "code",
   "execution_count": 1,
   "id": "1c0d8020",
   "metadata": {},
   "outputs": [],
   "source": [
    "# import usual things\n",
    "import pandas as pd\n",
    "import bqplot\n",
    "import numpy as np\n",
    "import ipywidgets\n",
    "import matplotlib.pyplot as plt"
   ]
  },
  {
   "cell_type": "markdown",
   "id": "419ae3f3",
   "metadata": {},
   "source": [
    "## Bit of a review from last class"
   ]
  },
  {
   "cell_type": "code",
   "execution_count": 2,
   "id": "7f3494b1",
   "metadata": {},
   "outputs": [],
   "source": [
    "# 1. data\n",
    "data = np.random.random((10,10))"
   ]
  },
  {
   "cell_type": "code",
   "execution_count": 4,
   "id": "29af7686",
   "metadata": {},
   "outputs": [
    {
     "data": {
      "text/plain": [
       "(10, 10)"
      ]
     },
     "execution_count": 4,
     "metadata": {},
     "output_type": "execute_result"
    }
   ],
   "source": [
    "data.shape"
   ]
  },
  {
   "cell_type": "code",
   "execution_count": 5,
   "id": "608784a7",
   "metadata": {},
   "outputs": [],
   "source": [
    "bqplot.ColorScale?"
   ]
  },
  {
   "cell_type": "code",
   "execution_count": 6,
   "id": "4b592be2",
   "metadata": {},
   "outputs": [],
   "source": [
    "# 2. Scales\n",
    "col_sc = bqplot.ColorScale()"
   ]
  },
  {
   "cell_type": "code",
   "execution_count": 7,
   "id": "7874ed05",
   "metadata": {},
   "outputs": [],
   "source": [
    "# 3. Axis -- skip this for right now"
   ]
  },
  {
   "cell_type": "code",
   "execution_count": 8,
   "id": "10a6fd52",
   "metadata": {},
   "outputs": [],
   "source": [
    "bqplot.GridHeatMap?"
   ]
  },
  {
   "cell_type": "code",
   "execution_count": 9,
   "id": "61b4c7c0",
   "metadata": {},
   "outputs": [],
   "source": [
    "# 4. Mark -- grid heatmap\n",
    "heat_map = bqplot.GridHeatMap(color=data, scales={'color':col_sc})"
   ]
  },
  {
   "cell_type": "code",
   "execution_count": 10,
   "id": "ede85218",
   "metadata": {},
   "outputs": [],
   "source": [
    "# 5. interactions -- skip for now as well"
   ]
  },
  {
   "cell_type": "code",
   "execution_count": 11,
   "id": "c4c6112c",
   "metadata": {},
   "outputs": [
    {
     "data": {
      "application/vnd.jupyter.widget-view+json": {
       "model_id": "1ce5298338cb4e0cb0713fc99de95f86",
       "version_major": 2,
       "version_minor": 0
      },
      "text/plain": [
       "Figure(fig_margin={'top': 60, 'bottom': 60, 'left': 60, 'right': 60}, marks=[GridHeatMap(color=array([[0.18102…"
      ]
     },
     "metadata": {},
     "output_type": "display_data"
    }
   ],
   "source": [
    "# put it all together as a figure\n",
    "fig = bqplot.Figure(marks=[heat_map])\n",
    "fig"
   ]
  },
  {
   "cell_type": "code",
   "execution_count": null,
   "id": "72b2ffd6",
   "metadata": {},
   "outputs": [],
   "source": [
    "# 2. Scales\n",
    "col_sc = bqplot.ColorScale(scheme='Greens')\n",
    "\n",
    "# 3. Axis -- skip this for right now\n",
    "\n",
    "# 4. Mark -- grid heatmap\n",
    "heat_map = bqplot.GridHeatMap(color=data, scales={'color':col_sc})\n",
    "\n",
    "# 5. interactions -- skip for now as well"
   ]
  }
 ],
 "metadata": {
  "kernelspec": {
   "display_name": "Python 3 (ipykernel)",
   "language": "python",
   "name": "python3"
  },
  "language_info": {
   "codemirror_mode": {
    "name": "ipython",
    "version": 3
   },
   "file_extension": ".py",
   "mimetype": "text/x-python",
   "name": "python",
   "nbconvert_exporter": "python",
   "pygments_lexer": "ipython3",
   "version": "3.7.12"
  }
 },
 "nbformat": 4,
 "nbformat_minor": 5
}
