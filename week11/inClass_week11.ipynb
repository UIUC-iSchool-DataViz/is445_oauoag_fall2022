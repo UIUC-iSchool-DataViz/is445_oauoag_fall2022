{
 "cells": [
  {
   "cell_type": "markdown",
   "id": "respective-store",
   "metadata": {},
   "source": [
    "# In Class Notebook, Week 11"
   ]
  },
  {
   "cell_type": "markdown",
   "id": "2a597611",
   "metadata": {},
   "source": [
    "You can always access the URL of this notebook: https://github.com/UIUC-iSchool-DataViz/is445_oauoag_fall2022/blob/master/week11/inClass_week11.ipynb \n",
    "\n",
    "Or post the URL into the nbviewer interface for a plain-text rendering:\n",
    "\n",
    "https://kokes.github.io/nbviewer.js/viewer.html"
   ]
  },
  {
   "cell_type": "code",
   "execution_count": 1,
   "id": "b6e9e349",
   "metadata": {},
   "outputs": [],
   "source": [
    "import altair as alt"
   ]
  },
  {
   "cell_type": "code",
   "execution_count": 2,
   "id": "b723be8a",
   "metadata": {},
   "outputs": [],
   "source": [
    "alt.Chart.from_dict?"
   ]
  },
  {
   "cell_type": "code",
   "execution_count": 4,
   "id": "4f99a0a8",
   "metadata": {},
   "outputs": [],
   "source": [
    "chart1 = alt.Chart.from_dict({\n",
    "  \"data\":{\"url\":\"https://raw.githubusercontent.com/UIUC-iSchool-DataViz/is445_bcubcg_fall2022/main/data/mobility.csv\"},\n",
    "  \"mark\":\"bar\",\n",
    "  \"encoding\":{\n",
    "    \"x\":{\"bin\":{\"maxbins\":15},\"field\":\"Mobility\", \"type\":\"quantitative\", \"title\":\"Mobility Score\"},\n",
    "    \"y\":{\"aggregate\":\"count\", \"type\":\"quantitative\", \"axis\":{\"title\":\"Frequency\"}} #// count up occurances on x-axis (Mobility)\n",
    "  }#// end of encoding\n",
    "}\n",
    ")"
   ]
  },
  {
   "cell_type": "code",
   "execution_count": 5,
   "id": "3fb0b28f",
   "metadata": {},
   "outputs": [
    {
     "data": {
      "text/html": [
       "\n",
       "<div id=\"altair-viz-1420596bfda54de88d82f425085758c6\"></div>\n",
       "<script type=\"text/javascript\">\n",
       "  var VEGA_DEBUG = (typeof VEGA_DEBUG == \"undefined\") ? {} : VEGA_DEBUG;\n",
       "  (function(spec, embedOpt){\n",
       "    let outputDiv = document.currentScript.previousElementSibling;\n",
       "    if (outputDiv.id !== \"altair-viz-1420596bfda54de88d82f425085758c6\") {\n",
       "      outputDiv = document.getElementById(\"altair-viz-1420596bfda54de88d82f425085758c6\");\n",
       "    }\n",
       "    const paths = {\n",
       "      \"vega\": \"https://cdn.jsdelivr.net/npm//vega@5?noext\",\n",
       "      \"vega-lib\": \"https://cdn.jsdelivr.net/npm//vega-lib?noext\",\n",
       "      \"vega-lite\": \"https://cdn.jsdelivr.net/npm//vega-lite@4.17.0?noext\",\n",
       "      \"vega-embed\": \"https://cdn.jsdelivr.net/npm//vega-embed@6?noext\",\n",
       "    };\n",
       "\n",
       "    function maybeLoadScript(lib, version) {\n",
       "      var key = `${lib.replace(\"-\", \"\")}_version`;\n",
       "      return (VEGA_DEBUG[key] == version) ?\n",
       "        Promise.resolve(paths[lib]) :\n",
       "        new Promise(function(resolve, reject) {\n",
       "          var s = document.createElement('script');\n",
       "          document.getElementsByTagName(\"head\")[0].appendChild(s);\n",
       "          s.async = true;\n",
       "          s.onload = () => {\n",
       "            VEGA_DEBUG[key] = version;\n",
       "            return resolve(paths[lib]);\n",
       "          };\n",
       "          s.onerror = () => reject(`Error loading script: ${paths[lib]}`);\n",
       "          s.src = paths[lib];\n",
       "        });\n",
       "    }\n",
       "\n",
       "    function showError(err) {\n",
       "      outputDiv.innerHTML = `<div class=\"error\" style=\"color:red;\">${err}</div>`;\n",
       "      throw err;\n",
       "    }\n",
       "\n",
       "    function displayChart(vegaEmbed) {\n",
       "      vegaEmbed(outputDiv, spec, embedOpt)\n",
       "        .catch(err => showError(`Javascript Error: ${err.message}<br>This usually means there's a typo in your chart specification. See the javascript console for the full traceback.`));\n",
       "    }\n",
       "\n",
       "    if(typeof define === \"function\" && define.amd) {\n",
       "      requirejs.config({paths});\n",
       "      require([\"vega-embed\"], displayChart, err => showError(`Error loading script: ${err.message}`));\n",
       "    } else {\n",
       "      maybeLoadScript(\"vega\", \"5\")\n",
       "        .then(() => maybeLoadScript(\"vega-lite\", \"4.17.0\"))\n",
       "        .then(() => maybeLoadScript(\"vega-embed\", \"6\"))\n",
       "        .catch(showError)\n",
       "        .then(() => displayChart(vegaEmbed));\n",
       "    }\n",
       "  })({\"config\": {\"view\": {\"continuousWidth\": 400, \"continuousHeight\": 300}}, \"data\": {\"url\": \"https://raw.githubusercontent.com/UIUC-iSchool-DataViz/is445_bcubcg_fall2022/main/data/mobility.csv\"}, \"mark\": \"bar\", \"encoding\": {\"x\": {\"bin\": {\"maxbins\": 15}, \"field\": \"Mobility\", \"title\": \"Mobility Score\", \"type\": \"quantitative\"}, \"y\": {\"aggregate\": \"count\", \"axis\": {\"title\": \"Frequency\"}, \"type\": \"quantitative\"}}, \"$schema\": \"https://vega.github.io/schema/vega-lite/v4.17.0.json\"}, {\"mode\": \"vega-lite\"});\n",
       "</script>"
      ],
      "text/plain": [
       "alt.Chart(...)"
      ]
     },
     "execution_count": 5,
     "metadata": {},
     "output_type": "execute_result"
    }
   ],
   "source": [
    "chart1"
   ]
  },
  {
   "cell_type": "code",
   "execution_count": 6,
   "id": "64481797",
   "metadata": {},
   "outputs": [],
   "source": [
    "myJekyllSaveDir = '/Users/jnaiman/jnaiman.github.io/assets/json/'"
   ]
  },
  {
   "cell_type": "code",
   "execution_count": 7,
   "id": "ea5a9700",
   "metadata": {},
   "outputs": [],
   "source": [
    "chart1.properties(width='container').save(myJekyllSaveDir+'mobility_hist.json')"
   ]
  },
  {
   "cell_type": "code",
   "execution_count": 9,
   "id": "a2af2d92",
   "metadata": {},
   "outputs": [
    {
     "ename": "ValidationError",
     "evalue": "{'data': {'url': 'https://raw.githubusercontent.com/UIUC-iSchool-DataViz/is445_bcubcg_fall2022/main/data/mobility.csv'}, 'hconcat': [{'params': [{'name': 'brush', 'select': 'interval'}], 'mark': 'rect', 'height': 400, 'width': 300, 'encoding': {'x': {'bin': {'maxbins': 10}, 'field': 'Student_teacher_ratio', 'type': 'quantitative'}, 'y': {'field': 'State', 'type': 'ordinal'}, 'color': {'aggregate': 'count', 'type': 'quantitative'}}}, {'transform': [{'filter': {'param': 'brush'}}], 'mark': 'bar', 'encoding': {'x': {'bin': {'maxbins': 15}, 'field': 'Mobility', 'type': 'quantitative', 'title': 'Mobility Score'}, 'y': {'aggregate': 'count', 'type': 'quantitative', 'axis': {'title': 'Frequency'}}}}]} is not valid under any of the given schemas\n\nFailed validating 'anyOf' in schema:\n    {'anyOf': [{'$ref': '#/definitions/TopLevelUnitSpec'},\n               {'$ref': '#/definitions/TopLevelFacetSpec'},\n               {'$ref': '#/definitions/TopLevelLayerSpec'},\n               {'$ref': '#/definitions/TopLevelRepeatSpec'},\n               {'$ref': '#/definitions/TopLevelNormalizedConcatSpec<GenericSpec>'},\n               {'$ref': '#/definitions/TopLevelNormalizedVConcatSpec<GenericSpec>'},\n               {'$ref': '#/definitions/TopLevelNormalizedHConcatSpec<GenericSpec>'}],\n     'description': 'A Vega-Lite top-level specification. This is the root '\n                    'class for all Vega-Lite specifications. (The json '\n                    'schema is generated from this type.)'}\n\nOn instance:\n    {'data': {'url': 'https://raw.githubusercontent.com/UIUC-iSchool-DataViz/is445_bcubcg_fall2022/main/data/mobility.csv'},\n     'hconcat': [{'encoding': {'color': {'aggregate': 'count',\n                                         'type': 'quantitative'},\n                               'x': {'bin': {'maxbins': 10},\n                                     'field': 'Student_teacher_ratio',\n                                     'type': 'quantitative'},\n                               'y': {'field': 'State', 'type': 'ordinal'}},\n                  'height': 400,\n                  'mark': 'rect',\n                  'params': [{'name': 'brush', 'select': 'interval'}],\n                  'width': 300},\n                 {'encoding': {'x': {'bin': {'maxbins': 15},\n                                     'field': 'Mobility',\n                                     'title': 'Mobility Score',\n                                     'type': 'quantitative'},\n                               'y': {'aggregate': 'count',\n                                     'axis': {'title': 'Frequency'},\n                                     'type': 'quantitative'}},\n                  'mark': 'bar',\n                  'transform': [{'filter': {'param': 'brush'}}]}]}",
     "output_type": "error",
     "traceback": [
      "\u001b[0;31m---------------------------------------------------------------------------\u001b[0m",
      "\u001b[0;31mValidationError\u001b[0m                           Traceback (most recent call last)",
      "\u001b[0;32m/var/folders/t7/bwcvd_4177q4872gxghn7p9r0000gq/T/ipykernel_14715/595165941.py\u001b[0m in \u001b[0;36m<module>\u001b[0;34m\u001b[0m\n\u001b[1;32m     19\u001b[0m       \"encoding\":{\n\u001b[1;32m     20\u001b[0m         \u001b[0;34m\"x\"\u001b[0m\u001b[0;34m:\u001b[0m\u001b[0;34m{\u001b[0m\u001b[0;34m\"bin\"\u001b[0m\u001b[0;34m:\u001b[0m\u001b[0;34m{\u001b[0m\u001b[0;34m\"maxbins\"\u001b[0m\u001b[0;34m:\u001b[0m\u001b[0;36m15\u001b[0m\u001b[0;34m}\u001b[0m\u001b[0;34m,\u001b[0m\u001b[0;34m\"field\"\u001b[0m\u001b[0;34m:\u001b[0m\u001b[0;34m\"Mobility\"\u001b[0m\u001b[0;34m,\u001b[0m \u001b[0;34m\"type\"\u001b[0m\u001b[0;34m:\u001b[0m\u001b[0;34m\"quantitative\"\u001b[0m\u001b[0;34m,\u001b[0m \u001b[0;34m\"title\"\u001b[0m\u001b[0;34m:\u001b[0m\u001b[0;34m\"Mobility Score\"\u001b[0m\u001b[0;34m}\u001b[0m\u001b[0;34m,\u001b[0m\u001b[0;34m\u001b[0m\u001b[0;34m\u001b[0m\u001b[0m\n\u001b[0;32m---> 21\u001b[0;31m         \u001b[0;34m\"y\"\u001b[0m\u001b[0;34m:\u001b[0m\u001b[0;34m{\u001b[0m\u001b[0;34m\"aggregate\"\u001b[0m\u001b[0;34m:\u001b[0m\u001b[0;34m\"count\"\u001b[0m\u001b[0;34m,\u001b[0m \u001b[0;34m\"type\"\u001b[0m\u001b[0;34m:\u001b[0m\u001b[0;34m\"quantitative\"\u001b[0m\u001b[0;34m,\u001b[0m \u001b[0;34m\"axis\"\u001b[0m\u001b[0;34m:\u001b[0m\u001b[0;34m{\u001b[0m\u001b[0;34m\"title\"\u001b[0m\u001b[0;34m:\u001b[0m\u001b[0;34m\"Frequency\"\u001b[0m\u001b[0;34m}\u001b[0m\u001b[0;34m}\u001b[0m \u001b[0;31m#// count up occurances on x-axis (Mobility)\u001b[0m\u001b[0;34m\u001b[0m\u001b[0;34m\u001b[0m\u001b[0m\n\u001b[0m\u001b[1;32m     22\u001b[0m       }#// end of encoding of PLOT 2     \n\u001b[1;32m     23\u001b[0m     } #// end of PLOT 2\n",
      "\u001b[0;32m~/opt/anaconda3/envs/DataViz/lib/python3.7/site-packages/altair/vegalite/v4/api.py\u001b[0m in \u001b[0;36mfrom_dict\u001b[0;34m(cls, dct, validate)\u001b[0m\n\u001b[1;32m   2007\u001b[0m \u001b[0;34m\u001b[0m\u001b[0m\n\u001b[1;32m   2008\u001b[0m         \u001b[0;31m# As a last resort, try using the Root vegalite object\u001b[0m\u001b[0;34m\u001b[0m\u001b[0;34m\u001b[0m\u001b[0;34m\u001b[0m\u001b[0m\n\u001b[0;32m-> 2009\u001b[0;31m         \u001b[0;32mreturn\u001b[0m \u001b[0mcore\u001b[0m\u001b[0;34m.\u001b[0m\u001b[0mRoot\u001b[0m\u001b[0;34m.\u001b[0m\u001b[0mfrom_dict\u001b[0m\u001b[0;34m(\u001b[0m\u001b[0mdct\u001b[0m\u001b[0;34m,\u001b[0m \u001b[0mvalidate\u001b[0m\u001b[0;34m)\u001b[0m\u001b[0;34m\u001b[0m\u001b[0;34m\u001b[0m\u001b[0m\n\u001b[0m\u001b[1;32m   2010\u001b[0m \u001b[0;34m\u001b[0m\u001b[0m\n\u001b[1;32m   2011\u001b[0m     \u001b[0;32mdef\u001b[0m \u001b[0mto_dict\u001b[0m\u001b[0;34m(\u001b[0m\u001b[0mself\u001b[0m\u001b[0;34m,\u001b[0m \u001b[0;34m*\u001b[0m\u001b[0margs\u001b[0m\u001b[0;34m,\u001b[0m \u001b[0;34m**\u001b[0m\u001b[0mkwargs\u001b[0m\u001b[0;34m)\u001b[0m\u001b[0;34m:\u001b[0m\u001b[0;34m\u001b[0m\u001b[0;34m\u001b[0m\u001b[0m\n",
      "\u001b[0;32m~/opt/anaconda3/envs/DataViz/lib/python3.7/site-packages/altair/utils/schemapi.py\u001b[0m in \u001b[0;36mfrom_dict\u001b[0;34m(cls, dct, validate, _wrapper_classes)\u001b[0m\n\u001b[1;32m    405\u001b[0m         \"\"\"\n\u001b[1;32m    406\u001b[0m         \u001b[0;32mif\u001b[0m \u001b[0mvalidate\u001b[0m\u001b[0;34m:\u001b[0m\u001b[0;34m\u001b[0m\u001b[0;34m\u001b[0m\u001b[0m\n\u001b[0;32m--> 407\u001b[0;31m             \u001b[0mcls\u001b[0m\u001b[0;34m.\u001b[0m\u001b[0mvalidate\u001b[0m\u001b[0;34m(\u001b[0m\u001b[0mdct\u001b[0m\u001b[0;34m)\u001b[0m\u001b[0;34m\u001b[0m\u001b[0;34m\u001b[0m\u001b[0m\n\u001b[0m\u001b[1;32m    408\u001b[0m         \u001b[0;32mif\u001b[0m \u001b[0m_wrapper_classes\u001b[0m \u001b[0;32mis\u001b[0m \u001b[0;32mNone\u001b[0m\u001b[0;34m:\u001b[0m\u001b[0;34m\u001b[0m\u001b[0;34m\u001b[0m\u001b[0m\n\u001b[1;32m    409\u001b[0m             \u001b[0m_wrapper_classes\u001b[0m \u001b[0;34m=\u001b[0m \u001b[0mcls\u001b[0m\u001b[0;34m.\u001b[0m\u001b[0m_default_wrapper_classes\u001b[0m\u001b[0;34m(\u001b[0m\u001b[0;34m)\u001b[0m\u001b[0;34m\u001b[0m\u001b[0;34m\u001b[0m\u001b[0m\n",
      "\u001b[0;32m~/opt/anaconda3/envs/DataViz/lib/python3.7/site-packages/altair/utils/schemapi.py\u001b[0m in \u001b[0;36mvalidate\u001b[0;34m(cls, instance, schema)\u001b[0m\n\u001b[1;32m    442\u001b[0m         \u001b[0mresolver\u001b[0m \u001b[0;34m=\u001b[0m \u001b[0mjsonschema\u001b[0m\u001b[0;34m.\u001b[0m\u001b[0mRefResolver\u001b[0m\u001b[0;34m.\u001b[0m\u001b[0mfrom_schema\u001b[0m\u001b[0;34m(\u001b[0m\u001b[0mcls\u001b[0m\u001b[0;34m.\u001b[0m\u001b[0m_rootschema\u001b[0m \u001b[0;32mor\u001b[0m \u001b[0mcls\u001b[0m\u001b[0;34m.\u001b[0m\u001b[0m_schema\u001b[0m\u001b[0;34m)\u001b[0m\u001b[0;34m\u001b[0m\u001b[0;34m\u001b[0m\u001b[0m\n\u001b[1;32m    443\u001b[0m         return jsonschema.validate(\n\u001b[0;32m--> 444\u001b[0;31m             \u001b[0minstance\u001b[0m\u001b[0;34m,\u001b[0m \u001b[0mschema\u001b[0m\u001b[0;34m,\u001b[0m \u001b[0mcls\u001b[0m\u001b[0;34m=\u001b[0m\u001b[0mcls\u001b[0m\u001b[0;34m.\u001b[0m\u001b[0m_validator\u001b[0m\u001b[0;34m,\u001b[0m \u001b[0mresolver\u001b[0m\u001b[0;34m=\u001b[0m\u001b[0mresolver\u001b[0m\u001b[0;34m\u001b[0m\u001b[0;34m\u001b[0m\u001b[0m\n\u001b[0m\u001b[1;32m    445\u001b[0m         )\n\u001b[1;32m    446\u001b[0m \u001b[0;34m\u001b[0m\u001b[0m\n",
      "\u001b[0;32m~/opt/anaconda3/envs/DataViz/lib/python3.7/site-packages/jsonschema/validators.py\u001b[0m in \u001b[0;36mvalidate\u001b[0;34m(instance, schema, cls, *args, **kwargs)\u001b[0m\n\u001b[1;32m   1096\u001b[0m     \u001b[0merror\u001b[0m \u001b[0;34m=\u001b[0m \u001b[0mexceptions\u001b[0m\u001b[0;34m.\u001b[0m\u001b[0mbest_match\u001b[0m\u001b[0;34m(\u001b[0m\u001b[0mvalidator\u001b[0m\u001b[0;34m.\u001b[0m\u001b[0miter_errors\u001b[0m\u001b[0;34m(\u001b[0m\u001b[0minstance\u001b[0m\u001b[0;34m)\u001b[0m\u001b[0;34m)\u001b[0m\u001b[0;34m\u001b[0m\u001b[0;34m\u001b[0m\u001b[0m\n\u001b[1;32m   1097\u001b[0m     \u001b[0;32mif\u001b[0m \u001b[0merror\u001b[0m \u001b[0;32mis\u001b[0m \u001b[0;32mnot\u001b[0m \u001b[0;32mNone\u001b[0m\u001b[0;34m:\u001b[0m\u001b[0;34m\u001b[0m\u001b[0;34m\u001b[0m\u001b[0m\n\u001b[0;32m-> 1098\u001b[0;31m         \u001b[0;32mraise\u001b[0m \u001b[0merror\u001b[0m\u001b[0;34m\u001b[0m\u001b[0;34m\u001b[0m\u001b[0m\n\u001b[0m\u001b[1;32m   1099\u001b[0m \u001b[0;34m\u001b[0m\u001b[0m\n\u001b[1;32m   1100\u001b[0m \u001b[0;34m\u001b[0m\u001b[0m\n",
      "\u001b[0;31mValidationError\u001b[0m: {'data': {'url': 'https://raw.githubusercontent.com/UIUC-iSchool-DataViz/is445_bcubcg_fall2022/main/data/mobility.csv'}, 'hconcat': [{'params': [{'name': 'brush', 'select': 'interval'}], 'mark': 'rect', 'height': 400, 'width': 300, 'encoding': {'x': {'bin': {'maxbins': 10}, 'field': 'Student_teacher_ratio', 'type': 'quantitative'}, 'y': {'field': 'State', 'type': 'ordinal'}, 'color': {'aggregate': 'count', 'type': 'quantitative'}}}, {'transform': [{'filter': {'param': 'brush'}}], 'mark': 'bar', 'encoding': {'x': {'bin': {'maxbins': 15}, 'field': 'Mobility', 'type': 'quantitative', 'title': 'Mobility Score'}, 'y': {'aggregate': 'count', 'type': 'quantitative', 'axis': {'title': 'Frequency'}}}}]} is not valid under any of the given schemas\n\nFailed validating 'anyOf' in schema:\n    {'anyOf': [{'$ref': '#/definitions/TopLevelUnitSpec'},\n               {'$ref': '#/definitions/TopLevelFacetSpec'},\n               {'$ref': '#/definitions/TopLevelLayerSpec'},\n               {'$ref': '#/definitions/TopLevelRepeatSpec'},\n               {'$ref': '#/definitions/TopLevelNormalizedConcatSpec<GenericSpec>'},\n               {'$ref': '#/definitions/TopLevelNormalizedVConcatSpec<GenericSpec>'},\n               {'$ref': '#/definitions/TopLevelNormalizedHConcatSpec<GenericSpec>'}],\n     'description': 'A Vega-Lite top-level specification. This is the root '\n                    'class for all Vega-Lite specifications. (The json '\n                    'schema is generated from this type.)'}\n\nOn instance:\n    {'data': {'url': 'https://raw.githubusercontent.com/UIUC-iSchool-DataViz/is445_bcubcg_fall2022/main/data/mobility.csv'},\n     'hconcat': [{'encoding': {'color': {'aggregate': 'count',\n                                         'type': 'quantitative'},\n                               'x': {'bin': {'maxbins': 10},\n                                     'field': 'Student_teacher_ratio',\n                                     'type': 'quantitative'},\n                               'y': {'field': 'State', 'type': 'ordinal'}},\n                  'height': 400,\n                  'mark': 'rect',\n                  'params': [{'name': 'brush', 'select': 'interval'}],\n                  'width': 300},\n                 {'encoding': {'x': {'bin': {'maxbins': 15},\n                                     'field': 'Mobility',\n                                     'title': 'Mobility Score',\n                                     'type': 'quantitative'},\n                               'y': {'aggregate': 'count',\n                                     'axis': {'title': 'Frequency'},\n                                     'type': 'quantitative'}},\n                  'mark': 'bar',\n                  'transform': [{'filter': {'param': 'brush'}}]}]}"
     ]
    }
   ],
   "source": [
    "dashboard = alt.Chart.from_dict({\n",
    "  \"data\":{\"url\":\"https://raw.githubusercontent.com/UIUC-iSchool-DataViz/is445_bcubcg_fall2022/main/data/mobility.csv\"},\n",
    "  \"hconcat\":[\n",
    "    { #// start of PLOT 1\n",
    "      \"params\":[{\"name\":\"brush\", \"select\":\"interval\"}], #// ADD THIS FOR SELECTION\n",
    "      #// CMD + ]\n",
    "      \"mark\":\"rect\",\n",
    "      \"height\":400,\n",
    "      \"width\":300,\n",
    "      \"encoding\":{\n",
    "        \"x\":{\"bin\":{\"maxbins\":10}, \"field\":\"Student_teacher_ratio\",\"type\":\"quantitative\"},\n",
    "        \"y\":{\"field\":\"State\", \"type\":\"ordinal\"},\n",
    "        \"color\":{\"aggregate\":\"count\", \"type\":\"quantitative\"} \n",
    "                #// count numbers of rows with State/Student_teacher_ratio combinations\n",
    "      }#// end of encodings for PLOT 1      \n",
    "    },{ #// end of PLOT 1, start of PLOT 2\n",
    "      \"transform\":[{\"filter\":{\"param\":\"brush\"}}], #// ADD FOR TRANSFORMATION\n",
    "      \"mark\":\"bar\",\n",
    "      \"encoding\":{\n",
    "        \"x\":{\"bin\":{\"maxbins\":15},\"field\":\"Mobility\", \"type\":\"quantitative\", \"title\":\"Mobility Score\"},\n",
    "        \"y\":{\"aggregate\":\"count\", \"type\":\"quantitative\", \"axis\":{\"title\":\"Frequency\"}} #// count up occurances on x-axis (Mobility)\n",
    "      }#// end of encoding of PLOT 2     \n",
    "    } #// end of PLOT 2\n",
    "  ] #// end of hconcat\n",
    "})"
   ]
  },
  {
   "cell_type": "markdown",
   "id": "373a23bc",
   "metadata": {},
   "source": [
    "Direct copy of dashboard doesn't work, since \"params\" is not fully supported (as of yet!)."
   ]
  },
  {
   "cell_type": "code",
   "execution_count": null,
   "id": "4808622e",
   "metadata": {},
   "outputs": [],
   "source": []
  }
 ],
 "metadata": {
  "kernelspec": {
   "display_name": "Python 3 (ipykernel)",
   "language": "python",
   "name": "python3"
  },
  "language_info": {
   "codemirror_mode": {
    "name": "ipython",
    "version": 3
   },
   "file_extension": ".py",
   "mimetype": "text/x-python",
   "name": "python",
   "nbconvert_exporter": "python",
   "pygments_lexer": "ipython3",
   "version": "3.7.12"
  }
 },
 "nbformat": 4,
 "nbformat_minor": 5
}
